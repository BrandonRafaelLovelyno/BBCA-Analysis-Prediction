{
 "cells": [
  {
   "cell_type": "markdown",
   "metadata": {},
   "source": [
    "Importing pandas ; Importing price prediction by book value growth csv ; Importing the price csv"
   ]
  },
  {
   "cell_type": "code",
   "execution_count": 1,
   "metadata": {},
   "outputs": [],
   "source": [
    "import pandas as pd\n",
    "df_prediction=pd.read_csv('../../data/output/price-prediction-by-book-value-growth.csv',sep=',')\n",
    "df_price=pd.read_csv('../../data/input/price.csv',sep=',')"
   ]
  },
  {
   "cell_type": "markdown",
   "metadata": {},
   "source": [
    "Dropping the prediction columns except the 3 Prediction column "
   ]
  },
  {
   "cell_type": "code",
   "execution_count": 2,
   "metadata": {},
   "outputs": [
    {
     "name": "stdout",
     "output_type": "stream",
     "text": [
      "      3 Prediction\n",
      "Year              \n",
      "2014   2369.029813\n",
      "2015   3225.604601\n",
      "2016   3191.906402\n",
      "2017   3746.859389\n",
      "2018   5218.683060\n",
      "2019   6211.703465\n",
      "2020   7741.498318\n",
      "2021   7587.731096\n",
      "2022   8046.755950\n",
      "2023   9262.144589\n",
      "2024  10290.176731\n"
     ]
    }
   ],
   "source": [
    "df_prediction=df_prediction[['Year','3 Prediction']]\n",
    "df_prediction=df_prediction.set_index('Year')\n",
    "print(df_prediction.head(len(df_prediction)))"
   ]
  },
  {
   "cell_type": "markdown",
   "metadata": {},
   "source": [
    "Creating the price year index ; Calculating price means by month and year"
   ]
  },
  {
   "cell_type": "code",
   "execution_count": 3,
   "metadata": {},
   "outputs": [],
   "source": [
    "df_price=df_price.drop(columns=['Open','High','Low','Volume','Adj Close'])\n",
    "\n",
    "df_price['Year']=pd.to_datetime(df_price['Date']).dt.year\n",
    "df_price=df_price.set_index('Year')\n",
    "df_price['Month']=pd.to_datetime(df_price['Date']).dt.month\n",
    "df_price=df_price.drop(columns=['Date'])\n",
    "\n",
    "df_price=df_price.groupby(['Year','Month']).mean()"
   ]
  },
  {
   "cell_type": "markdown",
   "metadata": {},
   "source": [
    "Creating the progress dataframe"
   ]
  },
  {
   "cell_type": "code",
   "execution_count": 4,
   "metadata": {},
   "outputs": [],
   "source": [
    "df_progress=df_price\n",
    "df_progress['Progress']=df_progress['Close']/df_prediction['3 Prediction']\n",
    "df_progress=df_progress.dropna()"
   ]
  },
  {
   "cell_type": "markdown",
   "metadata": {},
   "source": [
    "Exporting the progress dataframe csv"
   ]
  },
  {
   "cell_type": "code",
   "execution_count": 5,
   "metadata": {},
   "outputs": [],
   "source": [
    "df_progress.to_csv('../../data/output/monthly-progress-prediction-by-book-value.csv',sep=';',index=True)"
   ]
  }
 ],
 "metadata": {
  "kernelspec": {
   "display_name": "base",
   "language": "python",
   "name": "python3"
  },
  "language_info": {
   "codemirror_mode": {
    "name": "ipython",
    "version": 3
   },
   "file_extension": ".py",
   "mimetype": "text/x-python",
   "name": "python",
   "nbconvert_exporter": "python",
   "pygments_lexer": "ipython3",
   "version": "3.11.5"
  }
 },
 "nbformat": 4,
 "nbformat_minor": 2
}
