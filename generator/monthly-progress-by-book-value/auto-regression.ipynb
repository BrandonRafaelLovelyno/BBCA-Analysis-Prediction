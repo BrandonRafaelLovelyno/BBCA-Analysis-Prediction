{
 "cells": [
  {
   "cell_type": "markdown",
   "metadata": {},
   "source": [
    "Importing pandas ; Importing monthly progress error by book value ; Importing monthly progress by book value csv ; Importing matplotlib"
   ]
  },
  {
   "cell_type": "code",
   "execution_count": 51,
   "metadata": {},
   "outputs": [
    {
     "name": "stdout",
     "output_type": "stream",
     "text": [
      "   Year  Month  Progress  2 Mean  3 Mean  4 Mean  5 Mean\n",
      "0  2012      1  0.825456     NaN     NaN     NaN     NaN\n",
      "1  2012      2  0.783939     NaN     NaN     NaN     NaN\n",
      "2  2012      3  0.802500     NaN     NaN     NaN     NaN\n",
      "3  2012      4  0.814931     NaN     NaN     NaN     NaN\n",
      "4  2012      5  0.785893     NaN     NaN     NaN     NaN\n",
      "   Year  Month  2 Error  3 Error  4 Error  5 Error\n",
      "0  2012      1      NaN      NaN      NaN      NaN\n",
      "1  2012      2      NaN      NaN      NaN      NaN\n",
      "2  2012      3      NaN      NaN      NaN      NaN\n",
      "3  2012      4      NaN      NaN      NaN      NaN\n",
      "4  2012      5      NaN      NaN      NaN      NaN\n"
     ]
    }
   ],
   "source": [
    "import pandas as pd\n",
    "import matplotlib.pyplot as plt\n",
    "df_progress=pd.read_csv('../../data/output/monthly-progress-by-book-value.csv',sep=';')\n",
    "df_error=pd.read_csv('../../data/output/monthly-progress-by-book-value-error.csv',sep=';')\n",
    "print(df_progress.head())\n",
    "print(df_error.head())"
   ]
  },
  {
   "cell_type": "markdown",
   "metadata": {},
   "source": [
    "Calculating the Alpha value"
   ]
  },
  {
   "cell_type": "code",
   "execution_count": 52,
   "metadata": {},
   "outputs": [
    {
     "name": "stdout",
     "output_type": "stream",
     "text": [
      "    Year  Month   2 Error   3 Error   4 Error   5 Error   2 Ratio   3 Ratio  \\\n",
      "72  2018      1  0.050105  0.052729  0.050117  0.048906  0.169379  0.280316   \n",
      "73  2018      2  0.096651  0.082046  0.074185  0.056470  1.928983  1.555991   \n",
      "74  2018      3  0.051991  0.034026  0.026573  0.005077  0.537923  0.414720   \n",
      "75  2018      4  0.011486 -0.004341 -0.016381 -0.032971  0.220915 -0.127577   \n",
      "76  2018      5 -0.026391 -0.019144 -0.037860 -0.054863 -2.297760  4.410115   \n",
      "77  2018      6 -0.042874 -0.026348 -0.043458 -0.037279  1.624571  1.376271   \n",
      "78  2018      7 -0.076440 -0.040042 -0.056291 -0.050760  1.782882  1.519778   \n",
      "79  2018      8 -0.057185  0.003647 -0.015712 -0.002908  0.748112 -0.091069   \n",
      "80  2018      9 -0.063479  0.020243 -0.015609 -0.001932  1.110061  5.551268   \n",
      "81  2018     10 -0.136178 -0.067158 -0.094606 -0.084918  2.145235 -3.317541   \n",
      "82  2018     11 -0.078365 -0.010351 -0.046568 -0.028959  0.575459  0.154125   \n",
      "83  2018     12 -0.034046  0.035269 -0.004022  0.025474  0.434459 -3.407425   \n",
      "\n",
      "     4 Ratio    5 Ratio  \n",
      "72  0.228137   0.224809  \n",
      "73  1.480232   1.154664  \n",
      "74  0.358200   0.089910  \n",
      "75 -0.616445  -6.493991  \n",
      "76  2.311193   1.663963  \n",
      "77  1.147882   0.679497  \n",
      "78  1.295296   1.361611  \n",
      "79  0.279119   0.057290  \n",
      "80  0.993428   0.664367  \n",
      "81  6.061092  43.953463  \n",
      "82  0.492234   0.341025  \n",
      "83  0.086373  -0.879640  \n",
      "Year       2017.687075\n",
      "Month         6.414966\n",
      "2 Error       0.020310\n",
      "3 Error       0.011888\n",
      "4 Error       0.021455\n",
      "5 Error       0.025704\n",
      "2 Ratio      21.242889\n",
      "3 Ratio       0.449014\n",
      "4 Ratio       1.877857\n",
      "5 Ratio       1.896361\n",
      "dtype: float64\n"
     ]
    }
   ],
   "source": [
    "df_temp=df_error.copy()\n",
    "\n",
    "for i,col in enumerate(df_temp.columns[2:]):\n",
    "    df_temp[str(i+2)+' Ratio']=df_temp[col]/df_temp[col].shift(1)\n",
    "    \n",
    "print(df_temp[df_temp['Year']==2018])\n",
    "print(df_temp.mean())\n"
   ]
  },
  {
   "cell_type": "markdown",
   "metadata": {},
   "source": [
    "Calculating manual autoregressive model with y(t)(new)=y(t)+y(t-1)xAlpha"
   ]
  },
  {
   "cell_type": "code",
   "execution_count": 53,
   "metadata": {},
   "outputs": [
    {
     "name": "stdout",
     "output_type": "stream",
     "text": [
      "Progress      0.908181\n",
      "2 Mean        0.903208\n",
      "3 Mean        0.902727\n",
      "4 Mean        0.903064\n",
      "5 Mean        0.904144\n",
      "2 AR          0.903853\n",
      "2 AR Error    0.088762\n",
      "3 AR          0.903435\n",
      "3 AR Error    0.075872\n",
      "4 AR          0.903893\n",
      "4 AR Error    0.076638\n",
      "5 AR          0.905108\n",
      "5 AR Error    0.073526\n",
      "dtype: float64\n"
     ]
    }
   ],
   "source": [
    "alpha=0\n",
    "\n",
    "years=df_progress['Year'].unique()\n",
    "months=df_progress['Month'].unique()\n",
    "\n",
    "df_progress=df_progress.set_index(['Year','Month'])\n",
    "df_error=df_error.set_index(['Year','Month'])\n",
    "\n",
    "for year in years:\n",
    "    for i,col in enumerate(df_error.columns):\n",
    "        df_progress[str(i+2)+' AR']=df_progress[str(i+2)+' Mean']+(df_error[col].shift(1)*alpha*df_progress[str(i+2)+' Mean'])\n",
    "        df_progress.loc[(year,1),str(i+2)+' AR']=df_progress.loc[(year,1),str(i+2)+' Mean']\n",
    "        df_progress[str(i+2)+' AR Error']=(df_progress[str(i+2)+' AR']-df_progress['Progress'])/df_progress['Progress']\n",
    "\n",
    "print(df_progress.abs().mean())\n",
    "        \n"
   ]
  },
  {
   "cell_type": "markdown",
   "metadata": {},
   "source": [
    "Calculating error ARIMA model to actual progress"
   ]
  },
  {
   "cell_type": "code",
   "execution_count": null,
   "metadata": {},
   "outputs": [],
   "source": []
  }
 ],
 "metadata": {
  "kernelspec": {
   "display_name": "base",
   "language": "python",
   "name": "python3"
  },
  "language_info": {
   "codemirror_mode": {
    "name": "ipython",
    "version": 3
   },
   "file_extension": ".py",
   "mimetype": "text/x-python",
   "name": "python",
   "nbconvert_exporter": "python",
   "pygments_lexer": "ipython3",
   "version": "3.11.5"
  }
 },
 "nbformat": 4,
 "nbformat_minor": 2
}
