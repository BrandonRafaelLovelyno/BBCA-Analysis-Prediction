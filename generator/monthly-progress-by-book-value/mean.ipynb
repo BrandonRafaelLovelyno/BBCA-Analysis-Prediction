{
 "cells": [
  {
   "cell_type": "markdown",
   "metadata": {},
   "source": [
    "Importing pandas ; Importing price prediction by book value growth csv ; Importing the price csv"
   ]
  },
  {
   "cell_type": "code",
   "execution_count": 22,
   "metadata": {},
   "outputs": [],
   "source": [
    "import pandas as pd\n",
    "df_prediction=pd.read_csv('../../data/output/price-prediction-by-book-value-growth.csv',sep=',')\n",
    "df_price=pd.read_csv('../../data/input/price.csv',sep=',')"
   ]
  },
  {
   "cell_type": "markdown",
   "metadata": {},
   "source": [
    "Dropping the prediction columns except the 3 Prediction column "
   ]
  },
  {
   "cell_type": "code",
   "execution_count": 23,
   "metadata": {},
   "outputs": [
    {
     "name": "stdout",
     "output_type": "stream",
     "text": [
      "      3 Prediction\n",
      "Year              \n",
      "2014   2369.029813\n",
      "2015   3225.604601\n",
      "2016   3191.906402\n",
      "2017   3746.859389\n",
      "2018   5218.683060\n",
      "2019   6211.703465\n",
      "2020   7741.498318\n",
      "2021   7587.731096\n",
      "2022   8046.755950\n",
      "2023   9262.144589\n",
      "2024  10290.176731\n"
     ]
    }
   ],
   "source": [
    "df_prediction=df_prediction[['Year','3 Prediction']]\n",
    "df_prediction=df_prediction.set_index('Year')\n",
    "print(df_prediction.head(len(df_prediction)))"
   ]
  },
  {
   "cell_type": "markdown",
   "metadata": {},
   "source": [
    "Creating the price year index ; Calculating price means by month and year"
   ]
  },
  {
   "cell_type": "code",
   "execution_count": 24,
   "metadata": {},
   "outputs": [
    {
     "name": "stdout",
     "output_type": "stream",
     "text": [
      "                  Close\n",
      "Year Month             \n",
      "2017 1      3069.772727\n",
      "     2      3097.000000\n",
      "     3      3193.409091\n",
      "     4      3453.333333\n",
      "     5      3539.500000\n",
      "     6      3582.954545\n",
      "     7      3696.190476\n",
      "     8      3775.652174\n",
      "     9      3844.761905\n",
      "     10     4104.090909\n",
      "     11     4197.727273\n",
      "     12     4238.809524\n"
     ]
    }
   ],
   "source": [
    "df_price=df_price.drop(columns=['Open','High','Low','Volume','Adj Close'])\n",
    "\n",
    "df_price['Year']=pd.to_datetime(df_price['Date']).dt.year\n",
    "df_price=df_price.set_index('Year')\n",
    "df_price['Month']=pd.to_datetime(df_price['Date']).dt.month\n",
    "df_price=df_price.drop(columns=['Date'])\n",
    "\n",
    "df_price=df_price.groupby(['Year','Month']).mean()\n",
    "print(df_price[df_price.index.get_level_values('Year')==2017])"
   ]
  },
  {
   "cell_type": "markdown",
   "metadata": {},
   "source": [
    "Creating the progress dataframe"
   ]
  },
  {
   "cell_type": "code",
   "execution_count": 25,
   "metadata": {},
   "outputs": [
    {
     "name": "stdout",
     "output_type": "stream",
     "text": [
      "                  Close\n",
      "Year Month             \n",
      "2017 1      3069.772727\n",
      "     2      3097.000000\n",
      "     3      3193.409091\n",
      "     4      3453.333333\n",
      "     5      3539.500000\n",
      "     6      3582.954545\n",
      "     7      3696.190476\n",
      "     8      3775.652174\n",
      "     9      3844.761905\n",
      "     10     4104.090909\n",
      "     11     4197.727273\n",
      "     12     4238.809524\n",
      "                  Close  Progress\n",
      "Year Month                       \n",
      "2017 1      3069.772727  0.819292\n",
      "     2      3097.000000  0.826559\n",
      "     3      3193.409091  0.852290\n",
      "     4      3453.333333  0.921661\n",
      "     5      3539.500000  0.944658\n",
      "     6      3582.954545  0.956255\n",
      "     7      3696.190476  0.986477\n",
      "     8      3775.652174  1.007685\n",
      "     9      3844.761905  1.026129\n",
      "     10     4104.090909  1.095342\n",
      "     11     4197.727273  1.120332\n",
      "     12     4238.809524  1.131297\n"
     ]
    }
   ],
   "source": [
    "df_progress=df_price\n",
    "print(df_progress[df_progress.index.get_level_values('Year')==2017])\n",
    "df_progress['Progress']=df_progress['Close']/df_prediction['3 Prediction']\n",
    "\n",
    "print(df_progress[df_progress.index.get_level_values('Year')==2017])\n",
    "# make month index available as column\n",
    "df_progress['Month']=[i[1] for i in df_progress.index]"
   ]
  },
  {
   "cell_type": "markdown",
   "metadata": {},
   "source": [
    "Calculating lower bound and upper bound for progress dataframe cleansing"
   ]
  },
  {
   "cell_type": "code",
   "execution_count": 26,
   "metadata": {},
   "outputs": [],
   "source": [
    "months=range(1,13)\n",
    "lower_bound = []\n",
    "upper_bound = []\n",
    "\n",
    "for month in months:\n",
    "    q1 = df_progress[df_progress['Month'] == month]['Progress'].quantile(0.25)\n",
    "    q3 = df_progress[df_progress['Month'] == month]['Progress'].quantile(0.75)\n",
    "    iqr = q3 - q1\n",
    "    lower_bound.append(q1 - 1.5 * iqr)\n",
    "    upper_bound.append(q3 + 1.5 * iqr)  "
   ]
  },
  {
   "cell_type": "markdown",
   "metadata": {},
   "source": [
    "Cleaning the progress dataframe from outliers"
   ]
  },
  {
   "cell_type": "code",
   "execution_count": 27,
   "metadata": {},
   "outputs": [
    {
     "name": "stdout",
     "output_type": "stream",
     "text": [
      "            Progress\n",
      "Year Month          \n",
      "2014 1      0.825127\n",
      "     2      0.864067\n",
      "     3      0.887600\n",
      "     4      0.928349\n",
      "     5      0.943307\n",
      "...              ...\n",
      "2023 12     0.978090\n",
      "2024 1      0.930610\n",
      "     2      0.954254\n",
      "     4      0.940976\n",
      "     5      0.938273\n",
      "\n",
      "[120 rows x 1 columns]\n"
     ]
    }
   ],
   "source": [
    "df_cleaned_progress=pd.DataFrame()\n",
    "for month in months:\n",
    "    df_cleaned_progress=pd.concat([df_cleaned_progress,df_progress[(df_progress['Month'] == month) & (df_progress['Progress'] > lower_bound[month-1]) & (df_progress['Progress'] < upper_bound[month-1])]])\n",
    "\n",
    "# dropping the month column\n",
    "df_cleaned_progress=df_cleaned_progress.drop(columns=['Month','Close'])\n",
    "df_cleaned_progress=df_cleaned_progress.sort_values(by=['Year','Month'])\n",
    "\n",
    "print(df_cleaned_progress.head(len(df_cleaned_progress)))"
   ]
  },
  {
   "cell_type": "markdown",
   "metadata": {},
   "source": [
    "Exporting the progress dataframe csv"
   ]
  },
  {
   "cell_type": "code",
   "execution_count": 28,
   "metadata": {},
   "outputs": [],
   "source": [
    "df_cleaned_progress.to_csv('../../data/output/monthly-progress-by-book-value/mean.csv',sep=';',index=True)"
   ]
  }
 ],
 "metadata": {
  "kernelspec": {
   "display_name": "base",
   "language": "python",
   "name": "python3"
  },
  "language_info": {
   "codemirror_mode": {
    "name": "ipython",
    "version": 3
   },
   "file_extension": ".py",
   "mimetype": "text/x-python",
   "name": "python",
   "nbconvert_exporter": "python",
   "pygments_lexer": "ipython3",
   "version": "3.11.5"
  }
 },
 "nbformat": 4,
 "nbformat_minor": 2
}
