{
 "cells": [
  {
   "cell_type": "markdown",
   "metadata": {},
   "source": [
    "Importing pandas ; Importing book value csv"
   ]
  },
  {
   "cell_type": "code",
   "execution_count": 69,
   "metadata": {},
   "outputs": [
    {
     "name": "stdout",
     "output_type": "stream",
     "text": [
      "<class 'pandas.core.frame.DataFrame'>\n",
      "RangeIndex: 10 entries, 0 to 9\n",
      "Data columns (total 3 columns):\n",
      " #   Column      Non-Null Count  Dtype  \n",
      "---  ------      --------------  -----  \n",
      " 0   Year        10 non-null     int64  \n",
      " 1   Book Value  10 non-null     float64\n",
      " 2   PBV         10 non-null     float64\n",
      "dtypes: float64(2), int64(1)\n",
      "memory usage: 372.0 bytes\n",
      "None\n"
     ]
    }
   ],
   "source": [
    "import pandas as pd\n",
    "df=pd.read_csv('../../data/input/book-value.csv',sep=';')\n",
    "print(df.info())"
   ]
  },
  {
   "cell_type": "markdown",
   "metadata": {},
   "source": [
    "Setting Year column as index; Creating Growth column ; Creating x year growth column"
   ]
  },
  {
   "cell_type": "code",
   "execution_count": 70,
   "metadata": {},
   "outputs": [],
   "source": [
    "df=df.set_index('Year')\n",
    "df['1 Growth'] = df['Book Value'].diff()/df['Book Value'].shift(1)\n",
    "\n",
    "growth_mean_interval=range(2,6)\n",
    "for i in growth_mean_interval:\n",
    "    df[str(i)+' Growth'] = df['1 Growth'].rolling(window=i).mean()\n",
    "\n"
   ]
  },
  {
   "cell_type": "markdown",
   "metadata": {},
   "source": [
    "Creating price prediction dataframe ; Dropping unrelevant columns"
   ]
  },
  {
   "cell_type": "code",
   "execution_count": 71,
   "metadata": {},
   "outputs": [
    {
     "name": "stderr",
     "output_type": "stream",
     "text": [
      "C:\\Users\\Brandon\\AppData\\Local\\Temp\\ipykernel_10324\\2708880660.py:5: SettingWithCopyWarning: \n",
      "A value is trying to be set on a copy of a slice from a DataFrame.\n",
      "Try using .loc[row_indexer,col_indexer] = value instead\n",
      "\n",
      "See the caveats in the documentation: https://pandas.pydata.org/pandas-docs/stable/user_guide/indexing.html#returning-a-view-versus-a-copy\n",
      "  df_price[str(i)+' Prediction'] = (1 + df_price[str(i)+' Growth'])*df_price['Book Value']*df_price['PBV']\n",
      "C:\\Users\\Brandon\\AppData\\Local\\Temp\\ipykernel_10324\\2708880660.py:5: SettingWithCopyWarning: \n",
      "A value is trying to be set on a copy of a slice from a DataFrame.\n",
      "Try using .loc[row_indexer,col_indexer] = value instead\n",
      "\n",
      "See the caveats in the documentation: https://pandas.pydata.org/pandas-docs/stable/user_guide/indexing.html#returning-a-view-versus-a-copy\n",
      "  df_price[str(i)+' Prediction'] = (1 + df_price[str(i)+' Growth'])*df_price['Book Value']*df_price['PBV']\n",
      "C:\\Users\\Brandon\\AppData\\Local\\Temp\\ipykernel_10324\\2708880660.py:5: SettingWithCopyWarning: \n",
      "A value is trying to be set on a copy of a slice from a DataFrame.\n",
      "Try using .loc[row_indexer,col_indexer] = value instead\n",
      "\n",
      "See the caveats in the documentation: https://pandas.pydata.org/pandas-docs/stable/user_guide/indexing.html#returning-a-view-versus-a-copy\n",
      "  df_price[str(i)+' Prediction'] = (1 + df_price[str(i)+' Growth'])*df_price['Book Value']*df_price['PBV']\n",
      "C:\\Users\\Brandon\\AppData\\Local\\Temp\\ipykernel_10324\\2708880660.py:5: SettingWithCopyWarning: \n",
      "A value is trying to be set on a copy of a slice from a DataFrame.\n",
      "Try using .loc[row_indexer,col_indexer] = value instead\n",
      "\n",
      "See the caveats in the documentation: https://pandas.pydata.org/pandas-docs/stable/user_guide/indexing.html#returning-a-view-versus-a-copy\n",
      "  df_price[str(i)+' Prediction'] = (1 + df_price[str(i)+' Growth'])*df_price['Book Value']*df_price['PBV']\n",
      "C:\\Users\\Brandon\\AppData\\Local\\Temp\\ipykernel_10324\\2708880660.py:8: SettingWithCopyWarning: \n",
      "A value is trying to be set on a copy of a slice from a DataFrame\n",
      "\n",
      "See the caveats in the documentation: https://pandas.pydata.org/pandas-docs/stable/user_guide/indexing.html#returning-a-view-versus-a-copy\n",
      "  df_price.drop(columns=[str(i)+' Growth'],inplace=True)\n",
      "C:\\Users\\Brandon\\AppData\\Local\\Temp\\ipykernel_10324\\2708880660.py:8: SettingWithCopyWarning: \n",
      "A value is trying to be set on a copy of a slice from a DataFrame\n",
      "\n",
      "See the caveats in the documentation: https://pandas.pydata.org/pandas-docs/stable/user_guide/indexing.html#returning-a-view-versus-a-copy\n",
      "  df_price.drop(columns=[str(i)+' Growth'],inplace=True)\n",
      "C:\\Users\\Brandon\\AppData\\Local\\Temp\\ipykernel_10324\\2708880660.py:8: SettingWithCopyWarning: \n",
      "A value is trying to be set on a copy of a slice from a DataFrame\n",
      "\n",
      "See the caveats in the documentation: https://pandas.pydata.org/pandas-docs/stable/user_guide/indexing.html#returning-a-view-versus-a-copy\n",
      "  df_price.drop(columns=[str(i)+' Growth'],inplace=True)\n",
      "C:\\Users\\Brandon\\AppData\\Local\\Temp\\ipykernel_10324\\2708880660.py:8: SettingWithCopyWarning: \n",
      "A value is trying to be set on a copy of a slice from a DataFrame\n",
      "\n",
      "See the caveats in the documentation: https://pandas.pydata.org/pandas-docs/stable/user_guide/indexing.html#returning-a-view-versus-a-copy\n",
      "  df_price.drop(columns=[str(i)+' Growth'],inplace=True)\n"
     ]
    }
   ],
   "source": [
    "df_price=df.dropna()\n",
    "df_price.index=df_price.index+1\n",
    "\n",
    "for i in growth_mean_interval:\n",
    "    df_price[str(i)+' Prediction'] = (1 + df_price[str(i)+' Growth'])*df_price['Book Value']*df_price['PBV']\n",
    "\n",
    "for i in growth_mean_interval:\n",
    "    df_price.drop(columns=[str(i)+' Growth'],inplace=True)\n",
    "\n",
    "df_price=df_price.drop(columns=['1 Growth','Book Value','PBV'])"
   ]
  },
  {
   "cell_type": "markdown",
   "metadata": {},
   "source": [
    "Exporting price prediction by book value growth csv"
   ]
  },
  {
   "cell_type": "code",
   "execution_count": 72,
   "metadata": {},
   "outputs": [],
   "source": [
    "directory_path='../../data/output/'\n",
    "df_price.to_csv(directory_path + 'price-prediction-by-book-value-growth.csv', index=False)"
   ]
  }
 ],
 "metadata": {
  "kernelspec": {
   "display_name": "base",
   "language": "python",
   "name": "python3"
  },
  "language_info": {
   "codemirror_mode": {
    "name": "ipython",
    "version": 3
   },
   "file_extension": ".py",
   "mimetype": "text/x-python",
   "name": "python",
   "nbconvert_exporter": "python",
   "pygments_lexer": "ipython3",
   "version": "3.11.5"
  }
 },
 "nbformat": 4,
 "nbformat_minor": 2
}
