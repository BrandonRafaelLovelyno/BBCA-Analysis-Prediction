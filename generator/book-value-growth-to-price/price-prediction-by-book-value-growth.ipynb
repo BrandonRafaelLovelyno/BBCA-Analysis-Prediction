{
 "cells": [
  {
   "cell_type": "markdown",
   "metadata": {},
   "source": [
    "Importing pandas ; Importing book value csv"
   ]
  },
  {
   "cell_type": "code",
   "execution_count": 1,
   "metadata": {},
   "outputs": [
    {
     "name": "stdout",
     "output_type": "stream",
     "text": [
      "<class 'pandas.core.frame.DataFrame'>\n",
      "RangeIndex: 16 entries, 0 to 15\n",
      "Data columns (total 3 columns):\n",
      " #   Column      Non-Null Count  Dtype  \n",
      "---  ------      --------------  -----  \n",
      " 0   Year        16 non-null     int64  \n",
      " 1   Book Value  16 non-null     float64\n",
      " 2   PBV         16 non-null     float64\n",
      "dtypes: float64(2), int64(1)\n",
      "memory usage: 516.0 bytes\n",
      "None\n"
     ]
    }
   ],
   "source": [
    "import pandas as pd\n",
    "df=pd.read_csv('../../data/input/book-value.csv',sep=';')\n",
    "print(df.info())"
   ]
  },
  {
   "cell_type": "markdown",
   "metadata": {},
   "source": [
    "Setting Year column as index ; Creating Growth column ; Creating x year growth column"
   ]
  },
  {
   "cell_type": "code",
   "execution_count": 2,
   "metadata": {},
   "outputs": [
    {
     "name": "stdout",
     "output_type": "stream",
     "text": [
      "      Book Value   PBV  1 Growth  2 Mean Growth  3 Mean Growth  4 Mean Growth  \\\n",
      "Year                                                                            \n",
      "2008     188.800  3.44       NaN            NaN            NaN            NaN   \n",
      "2009     226.000  4.29  0.197034            NaN            NaN            NaN   \n",
      "2010     276.680  4.63  0.224248       0.210641            NaN            NaN   \n",
      "2011     340.726  4.70  0.231480       0.227864       0.217587            NaN   \n",
      "2012     420.416  4.33  0.233883       0.232682       0.229870       0.221661   \n",
      "2013     518.074  3.71  0.232289       0.233086       0.232551       0.230475   \n",
      "2014     630.160  4.17  0.216351       0.224320       0.227508       0.228501   \n",
      "2015     724.960  3.67  0.150438       0.183395       0.199693       0.208240   \n",
      "2016     912.050  3.40  0.258069       0.204254       0.208286       0.214287   \n",
      "2017    1065.126  4.11  0.167837       0.212953       0.192115       0.198174   \n",
      "2018    1230.254  4.23  0.155031       0.161434       0.193646       0.182844   \n",
      "2019    1411.826  4.74  0.147589       0.151310       0.156819       0.182132   \n",
      "2020    1497.400  4.52  0.060612       0.104101       0.121078       0.132768   \n",
      "2021    1644.400  4.44  0.098170       0.079391       0.102124       0.115351   \n",
      "2022    1792.890  4.77  0.090300       0.094235       0.083028       0.099168   \n",
      "2023    1965.980  4.78  0.096542       0.093421       0.095004       0.086406   \n",
      "\n",
      "      5 Mean Growth  \n",
      "Year                 \n",
      "2008            NaN  \n",
      "2009            NaN  \n",
      "2010            NaN  \n",
      "2011            NaN  \n",
      "2012            NaN  \n",
      "2013       0.223787  \n",
      "2014       0.227650  \n",
      "2015       0.212888  \n",
      "2016       0.218206  \n",
      "2017       0.204997  \n",
      "2018       0.189545  \n",
      "2019       0.175793  \n",
      "2020       0.157828  \n",
      "2021       0.125848  \n",
      "2022       0.110341  \n",
      "2023       0.098643  \n"
     ]
    }
   ],
   "source": [
    "df=df.set_index('Year')\n",
    "df['1 Growth'] = df['Book Value'].diff()/df['Book Value'].shift(1)\n",
    "\n",
    "growth_mean_interval=range(2,6)\n",
    "for i in growth_mean_interval:\n",
    "    df[str(i)+' Mean Growth'] = df['1 Growth'].rolling(window=i).mean()\n",
    "\n",
    "print(df.head(len(df)))\n"
   ]
  },
  {
   "cell_type": "markdown",
   "metadata": {},
   "source": [
    "Creating price prediction dataframe ; Dropping unrelevant columns"
   ]
  },
  {
   "cell_type": "code",
   "execution_count": 3,
   "metadata": {},
   "outputs": [
    {
     "name": "stdout",
     "output_type": "stream",
     "text": [
      "      2 Prediction  3 Prediction  4 Prediction  5 Prediction\n",
      "Year                                                        \n",
      "2009           NaN           NaN           NaN           NaN\n",
      "2010           NaN           NaN           NaN           NaN\n",
      "2011   1550.865302           NaN           NaN           NaN\n",
      "2012   1966.316548   1949.859262           NaN           NaN\n",
      "2013   2243.975303   2238.857615   2223.913722           NaN\n"
     ]
    }
   ],
   "source": [
    "df_price=df\n",
    "df_price.index=df_price.index+1\n",
    "\n",
    "for i in growth_mean_interval:\n",
    "    df_price[str(i)+' Prediction'] = (1 + df_price[str(i)+' Mean Growth'])*df_price['Book Value']*df_price['PBV']\n",
    "\n",
    "for i in growth_mean_interval:\n",
    "    df_price.drop(columns=[str(i)+' Mean Growth'],inplace=True)\n",
    "\n",
    "df_price=df_price.drop(columns=['1 Growth','Book Value','PBV'])\n",
    "print(df_price.head())"
   ]
  },
  {
   "cell_type": "markdown",
   "metadata": {},
   "source": [
    "Exporting price prediction by book value growth csv"
   ]
  },
  {
   "cell_type": "code",
   "execution_count": 4,
   "metadata": {},
   "outputs": [],
   "source": [
    "df_price=df_price.dropna()\n",
    "df_price.to_csv('../../data/output/price-prediction-by-book-value-growth.csv', index=True)"
   ]
  }
 ],
 "metadata": {
  "kernelspec": {
   "display_name": "base",
   "language": "python",
   "name": "python3"
  },
  "language_info": {
   "codemirror_mode": {
    "name": "ipython",
    "version": 3
   },
   "file_extension": ".py",
   "mimetype": "text/x-python",
   "name": "python",
   "nbconvert_exporter": "python",
   "pygments_lexer": "ipython3",
   "version": "3.11.5"
  }
 },
 "nbformat": 4,
 "nbformat_minor": 2
}
