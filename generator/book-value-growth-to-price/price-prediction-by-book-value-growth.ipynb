{
 "cells": [
  {
   "cell_type": "markdown",
   "metadata": {},
   "source": [
    "Importing pandas ; Importing book value csv"
   ]
  },
  {
   "cell_type": "code",
   "execution_count": 61,
   "metadata": {},
   "outputs": [
    {
     "name": "stdout",
     "output_type": "stream",
     "text": [
      "<class 'pandas.core.frame.DataFrame'>\n",
      "RangeIndex: 10 entries, 0 to 9\n",
      "Data columns (total 3 columns):\n",
      " #   Column      Non-Null Count  Dtype  \n",
      "---  ------      --------------  -----  \n",
      " 0   Year        10 non-null     int64  \n",
      " 1   Book Value  10 non-null     float64\n",
      " 2   PBV         10 non-null     float64\n",
      "dtypes: float64(2), int64(1)\n",
      "memory usage: 372.0 bytes\n",
      "None\n"
     ]
    }
   ],
   "source": [
    "import pandas as pd\n",
    "df=pd.read_csv('../../data/input/book-value.csv',sep=';')\n",
    "print(df.info())"
   ]
  },
  {
   "cell_type": "markdown",
   "metadata": {},
   "source": [
    "Setting Year column as index; Creating Growth column ; Creating x year growth column"
   ]
  },
  {
   "cell_type": "code",
   "execution_count": 62,
   "metadata": {},
   "outputs": [
    {
     "name": "stdout",
     "output_type": "stream",
     "text": [
      "      Book Value   PBV  1 Growth  2 Growth  3 Growth  4 Growth  5 Growth\n",
      "Year                                                                    \n",
      "2014       630.0  4.17       NaN       NaN       NaN       NaN       NaN\n",
      "2015       724.8  3.67  0.150476       NaN       NaN       NaN       NaN\n",
      "2016       912.0  3.40  0.258278  0.204377       NaN       NaN       NaN\n",
      "2017      1065.0  4.11  0.167763  0.213021  0.192172       NaN       NaN\n",
      "2018      1230.2  4.23  0.155117  0.161440  0.193720  0.182909       NaN\n",
      "2019      1411.8  4.74  0.147618  0.151368  0.156833  0.182194  0.175851\n",
      "2020      1497.4  4.52  0.060632  0.104125  0.121122  0.132783  0.157882\n",
      "2021      1644.0  4.44  0.097903  0.079267  0.102051  0.115318  0.125807\n",
      "2022      1792.0  4.77  0.090024  0.093964  0.082853  0.099044  0.110259\n",
      "2023      1965.0  4.78  0.096540  0.093282  0.094823  0.086275  0.098544\n"
     ]
    }
   ],
   "source": [
    "df=df.set_index('Year')\n",
    "df['1 Growth'] = df['Book Value'].diff()/df['Book Value'].shift(1)\n",
    "\n",
    "growth_mean_interval=range(2,6)\n",
    "for i in growth_mean_interval:\n",
    "    df[str(i)+' Growth'] = df['1 Growth'].rolling(window=i).mean()\n",
    "\n"
   ]
  },
  {
   "cell_type": "markdown",
   "metadata": {},
   "source": [
    "Creating price prediction dataframe ; Dropping unrelevant columns"
   ]
  },
  {
   "cell_type": "code",
   "execution_count": 63,
   "metadata": {},
   "outputs": [
    {
     "name": "stderr",
     "output_type": "stream",
     "text": [
      "C:\\Users\\Brandon\\AppData\\Local\\Temp\\ipykernel_10324\\728578540.py:3: SettingWithCopyWarning: \n",
      "A value is trying to be set on a copy of a slice from a DataFrame.\n",
      "Try using .loc[row_indexer,col_indexer] = value instead\n",
      "\n",
      "See the caveats in the documentation: https://pandas.pydata.org/pandas-docs/stable/user_guide/indexing.html#returning-a-view-versus-a-copy\n",
      "  df_price['3 Prediction'] = df_price['Book Value']*(1+df_price['3 Growth'])*df_price['PBV']\n",
      "C:\\Users\\Brandon\\AppData\\Local\\Temp\\ipykernel_10324\\728578540.py:4: SettingWithCopyWarning: \n",
      "A value is trying to be set on a copy of a slice from a DataFrame.\n",
      "Try using .loc[row_indexer,col_indexer] = value instead\n",
      "\n",
      "See the caveats in the documentation: https://pandas.pydata.org/pandas-docs/stable/user_guide/indexing.html#returning-a-view-versus-a-copy\n",
      "  df_price['5 Prediction'] = df_price['Book Value']*(1+df_price['5 Growth'])*df_price['PBV']\n"
     ]
    }
   ],
   "source": [
    "df_price=df.dropna()\n",
    "df_price.index=df_price.index+1\n",
    "df_price['3 Prediction'] = df_price['Book Value']*(1+df_price['3 Growth'])*df_price['PBV']\n",
    "df_price['5 Prediction'] = df_price['Book Value']*(1+df_price['5 Growth'])*df_price['PBV']\n",
    "\n",
    "df_price=df_price.drop(columns=['1 Growth','3 Growth','5 Growth','Book Value','PBV'])"
   ]
  },
  {
   "cell_type": "markdown",
   "metadata": {},
   "source": [
    "Exporting price prediction by book value growth csv"
   ]
  },
  {
   "cell_type": "code",
   "execution_count": 64,
   "metadata": {},
   "outputs": [],
   "source": [
    "directory_path='../../data/output/'\n",
    "df_price.to_csv(directory_path + 'price-prediction-by-book-value-growth.csv', index=False)"
   ]
  }
 ],
 "metadata": {
  "kernelspec": {
   "display_name": "base",
   "language": "python",
   "name": "python3"
  },
  "language_info": {
   "codemirror_mode": {
    "name": "ipython",
    "version": 3
   },
   "file_extension": ".py",
   "mimetype": "text/x-python",
   "name": "python",
   "nbconvert_exporter": "python",
   "pygments_lexer": "ipython3",
   "version": "3.11.5"
  }
 },
 "nbformat": 4,
 "nbformat_minor": 2
}
