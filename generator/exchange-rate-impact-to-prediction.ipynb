{
 "cells": [
  {
   "cell_type": "markdown",
   "metadata": {},
   "source": [
    "Importing pandas ; Importing dollar csv"
   ]
  },
  {
   "cell_type": "code",
   "execution_count": 30,
   "metadata": {},
   "outputs": [],
   "source": [
    "import pandas as pd\n",
    "df_dollar=pd.read_csv('../data/input/dollar.csv')"
   ]
  },
  {
   "cell_type": "markdown",
   "metadata": {},
   "source": [
    "Dropping unrelevant columns ; Creating the index"
   ]
  },
  {
   "cell_type": "code",
   "execution_count": 31,
   "metadata": {},
   "outputs": [],
   "source": [
    "df_dollar=df_dollar.drop(['Open','High','Low','Adj Close','Volume'],axis=1)\n",
    "\n",
    "df_dollar['Date']=pd.to_datetime(df_dollar['Date'])\n",
    "df_dollar['Year']=df_dollar['Date'].dt.year\n",
    "df_dollar['Month']=df_dollar['Date'].dt.month\n",
    "df_dollar=df_dollar.set_index(['Year','Month'])\n",
    "df_dollar=df_dollar.drop(['Date'],axis=1)\n",
    "\n",
    "df_dollar=df_dollar.rename(columns={'Close':'Price'})"
   ]
  },
  {
   "cell_type": "markdown",
   "metadata": {},
   "source": [
    "Calculating monthly mean ; Calculating monthly difference"
   ]
  },
  {
   "cell_type": "code",
   "execution_count": 32,
   "metadata": {},
   "outputs": [
    {
     "name": "stdout",
     "output_type": "stream",
     "text": [
      "                  Price  Difference\n",
      "Year Month                         \n",
      "2008 1      9402.400051         NaN\n",
      "     2      9174.342913   -0.024255\n",
      "     3      9146.780924   -0.003004\n",
      "     4      9201.518973    0.005984\n",
      "     5      9269.371373    0.007374\n",
      "     6      9289.790411    0.002203\n",
      "     7      9151.936301   -0.014839\n",
      "     8      9207.850098    0.006110\n",
      "     9      9375.859153    0.018246\n",
      "     10     9962.378312    0.062556\n"
     ]
    }
   ],
   "source": [
    "df_dollar=df_dollar.groupby(['Year','Month']).mean()\n",
    "df_dollar['Difference']=df_dollar.diff()/df_dollar.shift(1)\n",
    "print(df_dollar.head(10))"
   ]
  }
 ],
 "metadata": {
  "kernelspec": {
   "display_name": "base",
   "language": "python",
   "name": "python3"
  },
  "language_info": {
   "codemirror_mode": {
    "name": "ipython",
    "version": 3
   },
   "file_extension": ".py",
   "mimetype": "text/x-python",
   "name": "python",
   "nbconvert_exporter": "python",
   "pygments_lexer": "ipython3",
   "version": "3.11.5"
  }
 },
 "nbformat": 4,
 "nbformat_minor": 2
}
