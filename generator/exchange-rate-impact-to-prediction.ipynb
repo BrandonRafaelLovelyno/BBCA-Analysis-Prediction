{
 "cells": [
  {
   "cell_type": "markdown",
   "metadata": {},
   "source": [
    "Importing pandas ; Importing dollar csv"
   ]
  },
  {
   "cell_type": "code",
   "execution_count": 33,
   "metadata": {},
   "outputs": [],
   "source": [
    "import pandas as pd\n",
    "df_dollar=pd.read_csv('../data/input/dollar.csv')"
   ]
  },
  {
   "cell_type": "markdown",
   "metadata": {},
   "source": [
    "Dropping unrelevant columns ; Creating the index"
   ]
  },
  {
   "cell_type": "code",
   "execution_count": 34,
   "metadata": {},
   "outputs": [],
   "source": [
    "df_dollar=df_dollar.drop(['Open','High','Low','Adj Close','Volume'],axis=1)\n",
    "\n",
    "df_dollar['Date']=pd.to_datetime(df_dollar['Date'])\n",
    "df_dollar['Year']=df_dollar['Date'].dt.year\n",
    "df_dollar['Month']=df_dollar['Date'].dt.month\n",
    "df_dollar=df_dollar.set_index(['Year','Month'])\n",
    "df_dollar=df_dollar.drop(['Date'],axis=1)\n",
    "\n",
    "df_dollar=df_dollar.rename(columns={'Close':'Price'})"
   ]
  },
  {
   "cell_type": "markdown",
   "metadata": {},
   "source": [
    "Calculating monthly mean ; Calculating monthly difference"
   ]
  },
  {
   "cell_type": "code",
   "execution_count": 35,
   "metadata": {},
   "outputs": [],
   "source": [
    "df_dollar=df_dollar.groupby(['Year','Month']).mean()\n",
    "df_dollar['Difference']=df_dollar.diff()/df_dollar.shift(1)"
   ]
  },
  {
   "cell_type": "markdown",
   "metadata": {},
   "source": [
    "Exporting the dollar csv"
   ]
  },
  {
   "cell_type": "code",
   "execution_count": 36,
   "metadata": {},
   "outputs": [],
   "source": [
    "df_dollar.to_csv('../data/output/dollar.csv')"
   ]
  }
 ],
 "metadata": {
  "kernelspec": {
   "display_name": "base",
   "language": "python",
   "name": "python3"
  },
  "language_info": {
   "codemirror_mode": {
    "name": "ipython",
    "version": 3
   },
   "file_extension": ".py",
   "mimetype": "text/x-python",
   "name": "python",
   "nbconvert_exporter": "python",
   "pygments_lexer": "ipython3",
   "version": "3.11.5"
  }
 },
 "nbformat": 4,
 "nbformat_minor": 2
}
