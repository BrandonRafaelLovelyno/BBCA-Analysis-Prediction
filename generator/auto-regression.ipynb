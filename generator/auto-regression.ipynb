{
 "cells": [
  {
   "cell_type": "markdown",
   "metadata": {},
   "source": [
    "Importing pandas ; Importing monthly progress error by book value ; Importing the statsmodel ; Importing monthly progress by book value csv ; Importing matplotlib ; Importing matplotlib"
   ]
  },
  {
   "cell_type": "code",
   "execution_count": 4,
   "metadata": {},
   "outputs": [],
   "source": [
    "import pandas as pd\n",
    "import statsmodels.tsa.ar_model as sm\n",
    "import matplotlib.pyplot as plt\n",
    "import seaborn as sns\n",
    "df_error=pd.read_csv('../data/output/monthly-progress-by-book-value/error/past-prediction.csv',sep=';')\n",
    "df_error=df_error.set_index(['Year','Month'])"
   ]
  },
  {
   "cell_type": "markdown",
   "metadata": {},
   "source": [
    "Finding the right autoregressive coeffcient"
   ]
  },
  {
   "cell_type": "code",
   "execution_count": 5,
   "metadata": {},
   "outputs": [
    {
     "name": "stdout",
     "output_type": "stream",
     "text": [
      "const        -0.005863\n",
      "2 Error.L1    0.765179\n",
      "2 Error.L2    0.096471\n",
      "2 Error.L3   -0.088295\n",
      "dtype: float64 \n",
      "\n",
      "const        -0.007731\n",
      "3 Error.L1    0.727956\n",
      "3 Error.L2    0.054003\n",
      "3 Error.L3   -0.034416\n",
      "dtype: float64 \n",
      "\n",
      "const        -0.007428\n",
      "4 Error.L1    0.782897\n",
      "4 Error.L2    0.050681\n",
      "4 Error.L3   -0.098472\n",
      "dtype: float64 \n",
      "\n",
      "const        -0.007662\n",
      "5 Error.L1    0.813862\n",
      "5 Error.L2   -0.032889\n",
      "5 Error.L3   -0.054822\n",
      "dtype: float64 \n",
      "\n"
     ]
    },
    {
     "name": "stderr",
     "output_type": "stream",
     "text": [
      "c:\\Users\\Brandon\\anaconda3\\Lib\\site-packages\\statsmodels\\tsa\\base\\tsa_model.py:473: ValueWarning: An unsupported index was provided and will be ignored when e.g. forecasting.\n",
      "  self._init_dates(dates, freq)\n",
      "c:\\Users\\Brandon\\anaconda3\\Lib\\site-packages\\statsmodels\\tsa\\base\\tsa_model.py:473: ValueWarning: An unsupported index was provided and will be ignored when e.g. forecasting.\n",
      "  self._init_dates(dates, freq)\n",
      "c:\\Users\\Brandon\\anaconda3\\Lib\\site-packages\\statsmodels\\tsa\\base\\tsa_model.py:473: ValueWarning: An unsupported index was provided and will be ignored when e.g. forecasting.\n",
      "  self._init_dates(dates, freq)\n",
      "c:\\Users\\Brandon\\anaconda3\\Lib\\site-packages\\statsmodels\\tsa\\base\\tsa_model.py:473: ValueWarning: An unsupported index was provided and will be ignored when e.g. forecasting.\n",
      "  self._init_dates(dates, freq)\n"
     ]
    }
   ],
   "source": [
    "df_error=df_error.dropna()\n",
    "auto_regressive_params=[]\n",
    "\n",
    "for i,col in enumerate(df_error.columns):\n",
    "    ar_model=sm.AutoReg(df_error[col],lags=3).fit()\n",
    "    print(ar_model.params,'\\n')\n",
    "    auto_regressive_params.append([ar_model.params[col+'.L1'],ar_model.params[col+'.L2'],ar_model.params[col+'.L3'],ar_model.params['const']])"
   ]
  },
  {
   "cell_type": "markdown",
   "metadata": {},
   "source": [
    "Generating the autoregression error column"
   ]
  },
  {
   "cell_type": "code",
   "execution_count": 6,
   "metadata": {},
   "outputs": [
    {
     "name": "stdout",
     "output_type": "stream",
     "text": [
      "2 Error\n",
      "3 Error\n",
      "4 Error\n",
      "5 Error\n"
     ]
    }
   ],
   "source": [
    "for i,col in enumerate(df_error.columns[:4]):\n",
    "    print(col)\n",
    "    df_error['Predicted AR '+col]=auto_regressive_params[i][0]*df_error[col].shift(1)+auto_regressive_params[i][1]*df_error[col].shift(2)+auto_regressive_params[i][2]*df_error[col].shift(3)+auto_regressive_params[i][3]\n",
    "    df_error['Predicted AR '+col]=df_error['Predicted AR '+col].fillna(value=df_error[col])"
   ]
  },
  {
   "cell_type": "markdown",
   "metadata": {},
   "source": [
    "Exporting the ar error csv"
   ]
  },
  {
   "cell_type": "code",
   "execution_count": 7,
   "metadata": {},
   "outputs": [],
   "source": [
    "df_error=df_error.drop(columns=df_error.columns[:4])\n",
    "df_error.to_csv('../data/output/monthly-progress-by-book-value/error/AR.csv',sep=';')"
   ]
  }
 ],
 "metadata": {
  "kernelspec": {
   "display_name": "base",
   "language": "python",
   "name": "python3"
  },
  "language_info": {
   "codemirror_mode": {
    "name": "ipython",
    "version": 3
   },
   "file_extension": ".py",
   "mimetype": "text/x-python",
   "name": "python",
   "nbconvert_exporter": "python",
   "pygments_lexer": "ipython3",
   "version": "3.11.5"
  }
 },
 "nbformat": 4,
 "nbformat_minor": 2
}
