{
 "cells": [
  {
   "cell_type": "markdown",
   "metadata": {},
   "source": [
    "Importing pandas ; Importing monthly progress error by book value ; Importing the statsmodel ; Importing monthly progress by book value csv ; Importing matplotlib ; Importing matplotlib"
   ]
  },
  {
   "cell_type": "code",
   "execution_count": 162,
   "metadata": {},
   "outputs": [],
   "source": [
    "import pandas as pd\n",
    "import statsmodels as sm\n",
    "import matplotlib.pyplot as plt\n",
    "import seaborn as sns\n",
    "df_progress=pd.read_csv('../data/output/monthly-progress-by-book-value.csv',sep=';')\n",
    "df_error=pd.read_csv('../data/output/monthly-progress-by-book-value-error.csv',sep=';')\n",
    "df_progress=df_progress.set_index(['Year','Month'])\n",
    "df_error=df_error.set_index(['Year','Month'])"
   ]
  },
  {
   "cell_type": "markdown",
   "metadata": {},
   "source": [
    "Visualizing the error dataframe"
   ]
  },
  {
   "cell_type": "code",
   "execution_count": 163,
   "metadata": {},
   "outputs": [
    {
     "data": {
      "text/plain": [
       "<Axes: >"
      ]
     },
     "execution_count": 163,
     "metadata": {},
     "output_type": "execute_result"
    },
    {
     "data": {
      "image/png": "[encoded data removed]",
      "text/plain": [
       "<Figure size 640x480 with 1 Axes>"
      ]
     },
     "metadata": {},
     "output_type": "display_data"
    }
   ],
   "source": [
    "df_temp=df_error.abs()\n",
    "sns.boxplot(data=df_temp)"
   ]
  },
  {
   "cell_type": "markdown",
   "metadata": {},
   "source": [
    "Cleaning the error dataframe from outliers"
   ]
  },
  {
   "cell_type": "code",
   "execution_count": 164,
   "metadata": {},
   "outputs": [
    {
     "name": "stdout",
     "output_type": "stream",
     "text": [
      "<class 'pandas.core.frame.DataFrame'>\n",
      "MultiIndex: 147 entries, (2012, 1) to (2024, 5)\n",
      "Data columns (total 4 columns):\n",
      " #   Column   Non-Null Count  Dtype  \n",
      "---  ------   --------------  -----  \n",
      " 0   2 Error  123 non-null    float64\n",
      " 1   3 Error  111 non-null    float64\n",
      " 2   4 Error  99 non-null     float64\n",
      " 3   5 Error  87 non-null     float64\n",
      "dtypes: float64(4)\n",
      "memory usage: 6.0 KB\n",
      "None\n",
      "<class 'pandas.core.frame.DataFrame'>\n",
      "MultiIndex: 147 entries, (2012, 1) to (2024, 5)\n",
      "Data columns (total 4 columns):\n",
      " #   Column   Non-Null Count  Dtype  \n",
      "---  ------   --------------  -----  \n",
      " 0   2 Error  114 non-null    float64\n",
      " 1   3 Error  96 non-null     float64\n",
      " 2   4 Error  91 non-null     float64\n",
      " 3   5 Error  78 non-null     float64\n",
      "dtypes: float64(4)\n",
      "memory usage: 6.0 KB\n",
      "None\n",
      "          2 Error    3 Error    4 Error    5 Error\n",
      "count  114.000000  96.000000  91.000000  78.000000\n",
      "mean     0.075838   0.053281   0.061991   0.058866\n",
      "std      0.063118   0.045812   0.043663   0.044392\n",
      "min      0.000050   0.000425   0.001008   0.001936\n",
      "25%      0.023499   0.014415   0.027540   0.025868\n",
      "50%      0.057259   0.039526   0.050518   0.046075\n",
      "75%      0.116089   0.084159   0.092590   0.089401\n",
      "max      0.228285   0.172426   0.180114   0.178674\n"
     ]
    },
    {
     "data": {
      "image/png": "[encoded data removed]",
      "text/plain": [
       "<Figure size 640x480 with 1 Axes>"
      ]
     },
     "metadata": {},
     "output_type": "display_data"
    }
   ],
   "source": [
    "print(df_error.info())\n",
    "\n",
    "for i,col in enumerate(df_temp.columns):\n",
    "    Q1 = df_error[col].quantile(0.25)\n",
    "    Q3 = df_error[col].quantile(0.75)\n",
    "    IQR = Q3 - Q1\n",
    "    lower_bound = Q1 - 1.1 * IQR\n",
    "    upper_bound = Q3 + 1.1 * IQR\n",
    "    outlier_mask=(df_error[col]<lower_bound)|(df_error[col]>upper_bound)\n",
    "    df_error[col]=df_error[col].mask(outlier_mask)\n",
    "sns.boxplot(data=df_error)\n",
    "print(df_error.info())\n",
    "print(df_error.abs().describe())"
   ]
  },
  {
   "cell_type": "markdown",
   "metadata": {},
   "source": [
    "Finding the right autoregressive coeffcient"
   ]
  },
  {
   "cell_type": "code",
   "execution_count": 165,
   "metadata": {},
   "outputs": [
    {
     "ename": "AttributeError",
     "evalue": "module 'statsmodels' has no attribute 'tsa'",
     "output_type": "error",
     "traceback": [
      "\u001b[1;31m---------------------------------------------------------------------------\u001b[0m",
      "\u001b[1;31mAttributeError\u001b[0m                            Traceback (most recent call last)",
      "Cell \u001b[1;32mIn[165], line 2\u001b[0m\n\u001b[0;32m      1\u001b[0m df_error\u001b[38;5;241m=\u001b[39mdf_error\u001b[38;5;241m.\u001b[39mdropna()\n\u001b[1;32m----> 2\u001b[0m ar_model \u001b[38;5;241m=\u001b[39m \u001b[43msm\u001b[49m\u001b[38;5;241;43m.\u001b[39;49m\u001b[43mtsa\u001b[49m\u001b[38;5;241m.\u001b[39mar_model\u001b[38;5;241m.\u001b[39mAutoReg(df_error[\u001b[38;5;124m'\u001b[39m\u001b[38;5;124m3 Error\u001b[39m\u001b[38;5;124m'\u001b[39m], lags\u001b[38;5;241m=\u001b[39m\u001b[38;5;241m1\u001b[39m)\u001b[38;5;241m.\u001b[39mfit()\n\u001b[0;32m      3\u001b[0m \u001b[38;5;28mprint\u001b[39m(ar_model\u001b[38;5;241m.\u001b[39mparams)\n",
      "\u001b[1;31mAttributeError\u001b[0m: module 'statsmodels' has no attribute 'tsa'"
     ]
    }
   ],
   "source": [
    "df_error=df_error.dropna()\n",
    "ar_model = sm.tsa.ar_model.AutoReg(df_error['3 Error'], lags=1).fit()\n",
    "print(ar_model.params)"
   ]
  }
 ],
 "metadata": {
  "kernelspec": {
   "display_name": "base",
   "language": "python",
   "name": "python3"
  },
  "language_info": {
   "codemirror_mode": {
    "name": "ipython",
    "version": 3
   },
   "file_extension": ".py",
   "mimetype": "text/x-python",
   "name": "python",
   "nbconvert_exporter": "python",
   "pygments_lexer": "ipython3",
   "version": "3.11.5"
  }
 },
 "nbformat": 4,
 "nbformat_minor": 2
}
