{
 "cells": [
  {
   "cell_type": "markdown",
   "metadata": {},
   "source": [
    "Importing pandas ; Importing monthly progress error by book value ; Importing the statsmodel ; Importing monthly progress by book value csv ; Importing matplotlib ; Importing matplotlib"
   ]
  },
  {
   "cell_type": "code",
   "execution_count": 61,
   "metadata": {},
   "outputs": [],
   "source": [
    "import pandas as pd\n",
    "import statsmodels.tsa.ar_model as sm\n",
    "import matplotlib.pyplot as plt\n",
    "import seaborn as sns\n",
    "df_progress=pd.read_csv('../data/output/monthly-progress-by-book-value.csv',sep=';')\n",
    "df_error=pd.read_csv('../data/output/monthly-progress-by-book-value-error.csv',sep=';')\n",
    "df_progress=df_progress.set_index(['Year','Month'])\n",
    "df_error=df_error.set_index(['Year','Month'])"
   ]
  },
  {
   "cell_type": "markdown",
   "metadata": {},
   "source": [
    "Finding the right autoregressive coeffcient"
   ]
  },
  {
   "cell_type": "code",
   "execution_count": 62,
   "metadata": {},
   "outputs": [
    {
     "name": "stdout",
     "output_type": "stream",
     "text": [
      "const        -0.006690\n",
      "2 Error.L1    0.744139\n",
      "2 Error.L2    0.033665\n",
      "dtype: float64 \n",
      "\n",
      "const        -0.011363\n",
      "3 Error.L1    0.657686\n",
      "3 Error.L2    0.038497\n",
      "dtype: float64 \n",
      "\n",
      "const        -0.009815\n",
      "4 Error.L1    0.766917\n",
      "4 Error.L2   -0.055355\n",
      "dtype: float64 \n",
      "\n",
      "const        -0.009756\n",
      "5 Error.L1    0.806115\n",
      "5 Error.L2   -0.096881\n",
      "dtype: float64 \n",
      "\n",
      "const           -0.007432\n",
      "AR 2 Error.L1    0.786964\n",
      "AR 2 Error.L2   -0.007652\n",
      "dtype: float64 \n",
      "\n",
      "const           -0.011626\n",
      "AR 3 Error.L1    0.711891\n",
      "AR 3 Error.L2   -0.010281\n",
      "dtype: float64 \n",
      "\n",
      "const           -0.011590\n",
      "AR 4 Error.L1    0.679370\n",
      "AR 4 Error.L2    0.006901\n",
      "dtype: float64 \n",
      "\n",
      "const           -0.012063\n",
      "AR 5 Error.L1    0.666576\n",
      "AR 5 Error.L2    0.002854\n",
      "dtype: float64 \n",
      "\n"
     ]
    },
    {
     "name": "stderr",
     "output_type": "stream",
     "text": [
      "c:\\Users\\Brandon\\anaconda3\\Lib\\site-packages\\statsmodels\\tsa\\base\\tsa_model.py:473: ValueWarning: An unsupported index was provided and will be ignored when e.g. forecasting.\n",
      "  self._init_dates(dates, freq)\n",
      "c:\\Users\\Brandon\\anaconda3\\Lib\\site-packages\\statsmodels\\tsa\\base\\tsa_model.py:473: ValueWarning: An unsupported index was provided and will be ignored when e.g. forecasting.\n",
      "  self._init_dates(dates, freq)\n",
      "c:\\Users\\Brandon\\anaconda3\\Lib\\site-packages\\statsmodels\\tsa\\base\\tsa_model.py:473: ValueWarning: An unsupported index was provided and will be ignored when e.g. forecasting.\n",
      "  self._init_dates(dates, freq)\n",
      "c:\\Users\\Brandon\\anaconda3\\Lib\\site-packages\\statsmodels\\tsa\\base\\tsa_model.py:473: ValueWarning: An unsupported index was provided and will be ignored when e.g. forecasting.\n",
      "  self._init_dates(dates, freq)\n",
      "c:\\Users\\Brandon\\anaconda3\\Lib\\site-packages\\statsmodels\\tsa\\base\\tsa_model.py:473: ValueWarning: An unsupported index was provided and will be ignored when e.g. forecasting.\n",
      "  self._init_dates(dates, freq)\n",
      "c:\\Users\\Brandon\\anaconda3\\Lib\\site-packages\\statsmodels\\tsa\\base\\tsa_model.py:473: ValueWarning: An unsupported index was provided and will be ignored when e.g. forecasting.\n",
      "  self._init_dates(dates, freq)\n",
      "c:\\Users\\Brandon\\anaconda3\\Lib\\site-packages\\statsmodels\\tsa\\base\\tsa_model.py:473: ValueWarning: An unsupported index was provided and will be ignored when e.g. forecasting.\n",
      "  self._init_dates(dates, freq)\n",
      "c:\\Users\\Brandon\\anaconda3\\Lib\\site-packages\\statsmodels\\tsa\\base\\tsa_model.py:473: ValueWarning: An unsupported index was provided and will be ignored when e.g. forecasting.\n",
      "  self._init_dates(dates, freq)\n"
     ]
    }
   ],
   "source": [
    "df_error=df_error.dropna()\n",
    "auto_regressive_params=[]\n",
    "\n",
    "for i,col in enumerate(df_error.columns):\n",
    "    ar_model=sm.AutoReg(df_error[col],lags=2).fit()\n",
    "    print(ar_model.params,'\\n')\n",
    "    auto_regressive_params.append([ar_model.params[col+'.L1'],ar_model.params[col+'.L2'],ar_model.params['const']])"
   ]
  },
  {
   "cell_type": "markdown",
   "metadata": {},
   "source": [
    "Generating the autoregression error column"
   ]
  },
  {
   "cell_type": "code",
   "execution_count": 63,
   "metadata": {},
   "outputs": [
    {
     "name": "stdout",
     "output_type": "stream",
     "text": [
      "             2 Error   3 Error   4 Error   5 Error  AR 2 Error  AR 3 Error  \\\n",
      "Year Month                                                                   \n",
      "2020 1     -0.015446 -0.031626 -0.039860 -0.046143    0.006160   -0.029962   \n",
      "     2      0.047339  0.020227  0.007696  0.007607   -0.017632   -0.033221   \n",
      "     7      0.171438  0.198053  0.179415  0.153998    0.028017    0.000723   \n",
      "     8      0.161896  0.187621  0.181413  0.141642    0.122478    0.119673   \n",
      "     12     0.181139  0.224535  0.186336  0.139509    0.119555    0.119658   \n",
      "\n",
      "            AR 4 Error  AR 5 Error  AR AR 2 Error  AR AR 3 Error  \\\n",
      "Year Month                                                         \n",
      "2020 1       -0.063371   -0.044544      -0.000972      -0.025883   \n",
      "     2       -0.036283   -0.042424      -0.002647      -0.032748   \n",
      "     7       -0.001706    0.000847      -0.021355      -0.034968   \n",
      "     8        0.127355    0.113647       0.014751      -0.010770   \n",
      "     12       0.119382    0.089504       0.088739       0.073561   \n",
      "\n",
      "            AR AR 4 Error  AR AR 5 Error  \n",
      "Year Month                                \n",
      "2020 1          -0.047614      -0.033505  \n",
      "     2          -0.055005      -0.041846  \n",
      "     7          -0.036677      -0.040469  \n",
      "     8          -0.012999      -0.011620  \n",
      "     12          0.074920       0.063694  \n"
     ]
    }
   ],
   "source": [
    "for i,col in enumerate(df_error.columns):\n",
    "    df_error['AR '+col]=auto_regressive_params[i][0]*df_error[col].shift(1)+auto_regressive_params[i][1]*df_error[col].shift(2)+auto_regressive_params[i][2]\n",
    "\n",
    "print(df_error[df_error.index.get_level_values('Year')==2020])"
   ]
  },
  {
   "cell_type": "markdown",
   "metadata": {},
   "source": [
    "Updating the monthly progress by book value error csv"
   ]
  },
  {
   "cell_type": "code",
   "execution_count": 64,
   "metadata": {},
   "outputs": [],
   "source": [
    "df_error.to_csv('../data/output/monthly-progress-by-book-value-error.csv',sep=';')"
   ]
  }
 ],
 "metadata": {
  "kernelspec": {
   "display_name": "base",
   "language": "python",
   "name": "python3"
  },
  "language_info": {
   "codemirror_mode": {
    "name": "ipython",
    "version": 3
   },
   "file_extension": ".py",
   "mimetype": "text/x-python",
   "name": "python",
   "nbconvert_exporter": "python",
   "pygments_lexer": "ipython3",
   "version": "3.11.5"
  }
 },
 "nbformat": 4,
 "nbformat_minor": 2
}
