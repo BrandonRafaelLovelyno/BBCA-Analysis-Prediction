{
 "cells": [
  {
   "cell_type": "markdown",
   "metadata": {},
   "source": [
    "Importing pandas ; Importing seaborn ; Importing monthly progress prediction by book value ; Importing monthly progress by book value error"
   ]
  },
  {
   "cell_type": "code",
   "execution_count": 1,
   "metadata": {},
   "outputs": [
    {
     "name": "stdout",
     "output_type": "stream",
     "text": [
      "            Progress    2 Mean    3 Mean    4 Mean    5 Mean\n",
      "Year Month                                                  \n",
      "2017 1      0.819292  0.815852  0.818944  0.820148  0.821210\n",
      "     2      0.826559  0.845961  0.851996  0.868132  0.851293\n",
      "     3      0.852290  0.867682  0.874321  0.896171  0.877437\n",
      "     4      0.921661  0.866694  0.887246  0.908608  0.889873\n",
      "     5      0.944658  0.840485  0.874759  0.899192  0.876533\n",
      "            Predicted AR 2 Error  Predicted AR 3 Error  Predicted AR 4 Error  \\\n",
      "Year Month                                                                     \n",
      "2017 1                 -0.003440             -0.000348              0.000856   \n",
      "     2                  0.019402              0.025437              0.041573   \n",
      "     3                  0.015392              0.022032              0.043882   \n",
      "     4                  0.008090              0.009693              0.028949   \n",
      "     5                 -0.048150             -0.032469             -0.019517   \n",
      "\n",
      "            Predicted AR 5 Error  \n",
      "Year Month                        \n",
      "2017 1                  0.001918  \n",
      "     2                  0.024735  \n",
      "     3                  0.025147  \n",
      "     4                  0.011886  \n",
      "     5                 -0.035716  \n"
     ]
    }
   ],
   "source": [
    "import pandas as pd\n",
    "import seaborn as sns\n",
    "df_progress=pd.read_csv('../../data/output/monthly-progress-by-book-value/mean/past-prediction.csv',sep=';')\n",
    "df_error=pd.read_csv('../../data/output/monthly-progress-by-book-value/error/AR.csv',sep=';')\n",
    "df_progress=df_progress.set_index(['Year','Month'])\n",
    "df_error=df_error.set_index(['Year','Month'])\n",
    "print(df_progress.head())\n",
    "print(df_error.head())"
   ]
  },
  {
   "cell_type": "markdown",
   "metadata": {},
   "source": [
    "Generating adjusted progress prediction with autoregressive error columns"
   ]
  },
  {
   "cell_type": "code",
   "execution_count": 2,
   "metadata": {},
   "outputs": [
    {
     "name": "stdout",
     "output_type": "stream",
     "text": [
      "            Progress    2 Mean    3 Mean    4 Mean    5 Mean  AR 2 Mean  \\\n",
      "Year Month                                                                \n",
      "2017 1      0.819292  0.815852  0.818944  0.820148  0.821210   0.819292   \n",
      "     2      0.826559  0.845961  0.851996  0.868132  0.851293   0.826559   \n",
      "     3      0.852290  0.867682  0.874321  0.896171  0.877437   0.852290   \n",
      "     4      0.921661  0.866694  0.887246  0.908608  0.889873   0.858604   \n",
      "     5      0.944658  0.840485  0.874759  0.899192  0.876533   0.888635   \n",
      "\n",
      "            AR 3 Mean  AR 4 Mean  AR 5 Mean  \n",
      "Year Month                                   \n",
      "2017 1       0.819292   0.819292   0.819292  \n",
      "     2       0.826559   0.826559   0.826559  \n",
      "     3       0.852290   0.852290   0.852290  \n",
      "     4       0.877553   0.879659   0.877987  \n",
      "     5       0.907228   0.918709   0.912249  \n"
     ]
    }
   ],
   "source": [
    "min_year=min(df_error.index.get_level_values('Year'))\n",
    "\n",
    "df_progress=df_progress.drop(df_progress.index[df_progress.index.get_level_values('Year')<min_year])\n",
    "\n",
    "for i,col in enumerate(df_error.columns):\n",
    "    df_progress['AR '+str(i+2)+' Mean']=df_progress[str(i+2)+' Mean']+(df_error[col]*-1)\n",
    "    df_progress['AR '+str(i+2)+' Mean']=df_progress['AR '+str(i+2)+' Mean'].fillna(df_progress[str(i+2)+' Mean'])\n",
    "\n",
    "print(df_progress.head())"
   ]
  },
  {
   "cell_type": "markdown",
   "metadata": {},
   "source": [
    "Calculating auto regressive mean error ; Visualizing auto regressive mean error"
   ]
  },
  {
   "cell_type": "code",
   "execution_count": 3,
   "metadata": {},
   "outputs": [
    {
     "name": "stdout",
     "output_type": "stream",
     "text": [
      "AR 2 Mean Error\n",
      "AR 3 Mean Error\n",
      "AR 4 Mean Error\n",
      "AR 5 Mean Error\n"
     ]
    },
    {
     "data": {
      "text/plain": [
       "<Axes: >"
      ]
     },
     "execution_count": 3,
     "metadata": {},
     "output_type": "execute_result"
    },
    {
     "data": {
      "image/png": "[encoded data removed]",
      "text/plain": [
       "<Figure size 640x480 with 1 Axes>"
      ]
     },
     "metadata": {},
     "output_type": "display_data"
    }
   ],
   "source": [
    "for i,col in enumerate(df_progress.columns[5:]):\n",
    "    print(col+' Error')\n",
    "    df_progress[col+' Error']=df_progress[col]-df_progress['Progress']\n",
    "\n",
    "sns.boxplot(data=df_progress.abs().drop(columns=df_progress.columns[:9]))"
   ]
  },
  {
   "cell_type": "markdown",
   "metadata": {},
   "source": [
    "Cleaning auto regressive mean error"
   ]
  },
  {
   "cell_type": "code",
   "execution_count": 4,
   "metadata": {},
   "outputs": [
    {
     "name": "stdout",
     "output_type": "stream",
     "text": [
      "There is a total of 37  outliers of  348  data\n",
      "AR 2 Mean Error    0.034200\n",
      "AR 3 Mean Error    0.029977\n",
      "AR 4 Mean Error    0.030179\n",
      "AR 5 Mean Error    0.026513\n",
      "dtype: float64\n"
     ]
    },
    {
     "data": {
      "image/png": "[encoded data removed]",
      "text/plain": [
       "<Figure size 640x480 with 1 Axes>"
      ]
     },
     "metadata": {},
     "output_type": "display_data"
    }
   ],
   "source": [
    "count_before=df_progress[df_progress.columns[9:]].count()\n",
    "\n",
    "for i,col in enumerate(df_progress.columns[9:]):\n",
    "    Q1 = df_progress[col].abs().quantile(0.25)\n",
    "    Q3 = df_progress[col].abs().quantile(0.75)\n",
    "    IQR = Q3 - Q1\n",
    "    lower_bound = Q1 - 1.3 * IQR\n",
    "    upper_bound = Q3 + 1.3 * IQR\n",
    "    outlier_mask=(df_progress[col].abs()<lower_bound)|(df_progress[col].abs()>upper_bound)\n",
    "    df_progress[col]=df_progress[col].mask(outlier_mask)\n",
    "    \n",
    "count_after=df_progress[df_progress.columns[9:]].count()\n",
    "\n",
    "print('There is a total of',count_before.sum()-count_after.sum(),' outliers of ',count_before.sum(),' data')\n",
    "\n",
    "sns.boxplot(data=df_progress[df_progress.columns[9:]].abs())\n",
    "print(df_progress[df_progress.columns[9:]].abs().mean())"
   ]
  },
  {
   "cell_type": "markdown",
   "metadata": {},
   "source": [
    "Exporting the progress dataframe csv"
   ]
  },
  {
   "cell_type": "code",
   "execution_count": 5,
   "metadata": {},
   "outputs": [
    {
     "name": "stdout",
     "output_type": "stream",
     "text": [
      "            Progress    2 Mean    3 Mean    4 Mean    5 Mean  AR 2 Mean  \\\n",
      "Year Month                                                                \n",
      "2017 1      0.819292  0.815852  0.818944  0.820148  0.821210   0.819292   \n",
      "     2      0.826559  0.845961  0.851996  0.868132  0.851293   0.826559   \n",
      "     3      0.852290  0.867682  0.874321  0.896171  0.877437   0.852290   \n",
      "     4      0.921661  0.866694  0.887246  0.908608  0.889873   0.858604   \n",
      "     5      0.944658  0.840485  0.874759  0.899192  0.876533   0.888635   \n",
      "\n",
      "            AR 3 Mean  AR 4 Mean  AR 5 Mean  AR 2 Mean Error  AR 3 Mean Error  \\\n",
      "Year Month                                                                      \n",
      "2017 1       0.819292   0.819292   0.819292         0.000000         0.000000   \n",
      "     2       0.826559   0.826559   0.826559         0.000000         0.000000   \n",
      "     3       0.852290   0.852290   0.852290         0.000000         0.000000   \n",
      "     4       0.877553   0.879659   0.877987        -0.063057        -0.044108   \n",
      "     5       0.907228   0.918709   0.912249        -0.056022        -0.037430   \n",
      "\n",
      "            AR 4 Mean Error  AR 5 Mean Error  \n",
      "Year Month                                    \n",
      "2017 1         1.110223e-16     1.110223e-16  \n",
      "     2         0.000000e+00     0.000000e+00  \n",
      "     3         0.000000e+00     0.000000e+00  \n",
      "     4        -4.200195e-02    -4.367405e-02  \n",
      "     5        -2.594879e-02    -3.240927e-02  \n"
     ]
    }
   ],
   "source": [
    "print(df_progress.head())\n",
    "df_progress=df_progress.drop(columns=df_progress.columns[:5])\n",
    "df_progress=df_progress.drop(columns=df_progress.columns[4:])\n",
    "df_progress.to_csv('../../data/output/monthly-progress-by-book-value/mean/AR.csv',sep=';')"
   ]
  }
 ],
 "metadata": {
  "kernelspec": {
   "display_name": "base",
   "language": "python",
   "name": "python3"
  },
  "language_info": {
   "codemirror_mode": {
    "name": "ipython",
    "version": 3
   },
   "file_extension": ".py",
   "mimetype": "text/x-python",
   "name": "python",
   "nbconvert_exporter": "python",
   "pygments_lexer": "ipython3",
   "version": "3.11.5"
  }
 },
 "nbformat": 4,
 "nbformat_minor": 2
}
