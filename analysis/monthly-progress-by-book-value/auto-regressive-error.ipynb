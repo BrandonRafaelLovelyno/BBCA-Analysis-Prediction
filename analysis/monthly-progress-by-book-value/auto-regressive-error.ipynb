{
 "cells": [
  {
   "cell_type": "markdown",
   "metadata": {},
   "source": [
    "Importing pandas ; Importing monthly progress prediction by book value ; Importing monthly progress by book value error"
   ]
  },
  {
   "cell_type": "code",
   "execution_count": 4,
   "metadata": {},
   "outputs": [
    {
     "name": "stdout",
     "output_type": "stream",
     "text": [
      "            Progress  2 Mean  3 Mean  4 Mean  5 Mean\n",
      "Year Month                                          \n",
      "2012 1      0.825456     NaN     NaN     NaN     NaN\n",
      "     2      0.783939     NaN     NaN     NaN     NaN\n",
      "     3      0.802500     NaN     NaN     NaN     NaN\n",
      "     4      0.814931     NaN     NaN     NaN     NaN\n",
      "     5      0.785893     NaN     NaN     NaN     NaN\n",
      "             2 Error   3 Error   4 Error   5 Error  AR 2 Error  AR 3 Error  \\\n",
      "Year Month                                                                   \n",
      "2017 3      0.018060  0.025850  0.051487  0.029506         NaN         NaN   \n",
      "     4     -0.059638 -0.037340 -0.014162 -0.034490         NaN         NaN   \n",
      "     5     -0.110276 -0.073994 -0.048129 -0.072116   -0.050461   -0.034926   \n",
      "     6     -0.134982 -0.098279 -0.099568 -0.124633   -0.090758   -0.061465   \n",
      "     7     -0.130560 -0.095094 -0.095915 -0.118545   -0.110847   -0.078848   \n",
      "\n",
      "            AR 4 Error  AR 5 Error  AR AR 2 Error  AR AR 3 Error  \\\n",
      "Year Month                                                         \n",
      "2017 3             NaN         NaN            NaN            NaN   \n",
      "     4             NaN         NaN            NaN            NaN   \n",
      "     5       -0.023526   -0.040418            NaN            NaN   \n",
      "     6       -0.045942   -0.064549            NaN            NaN   \n",
      "     7       -0.083511   -0.103238      -0.078469      -0.055023   \n",
      "\n",
      "            AR AR 4 Error  AR AR 5 Error  \n",
      "Year Month                                \n",
      "2017 3                NaN            NaN  \n",
      "     4                NaN            NaN  \n",
      "     5                NaN            NaN  \n",
      "     6                NaN            NaN  \n",
      "     7          -0.042964      -0.055205  \n"
     ]
    }
   ],
   "source": [
    "import pandas as pd\n",
    "df_progress=pd.read_csv('../../data/output/monthly-progress-by-book-value.csv',sep=';')\n",
    "df_error=pd.read_csv('../../data/output/monthly-progress-by-book-value-error.csv',sep=';')\n",
    "df_progress=df_progress.set_index(['Year','Month'])\n",
    "df_error=df_error.set_index(['Year','Month'])\n",
    "print(df_progress.head())\n",
    "print(df_error.head())"
   ]
  },
  {
   "cell_type": "markdown",
   "metadata": {},
   "source": [
    "Generating adjusted progress prediction with autoregressive error columns"
   ]
  },
  {
   "cell_type": "code",
   "execution_count": null,
   "metadata": {},
   "outputs": [],
   "source": []
  }
 ],
 "metadata": {
  "kernelspec": {
   "display_name": "base",
   "language": "python",
   "name": "python3"
  },
  "language_info": {
   "codemirror_mode": {
    "name": "ipython",
    "version": 3
   },
   "file_extension": ".py",
   "mimetype": "text/x-python",
   "name": "python",
   "nbconvert_exporter": "python",
   "pygments_lexer": "ipython3",
   "version": "3.11.5"
  }
 },
 "nbformat": 4,
 "nbformat_minor": 2
}
