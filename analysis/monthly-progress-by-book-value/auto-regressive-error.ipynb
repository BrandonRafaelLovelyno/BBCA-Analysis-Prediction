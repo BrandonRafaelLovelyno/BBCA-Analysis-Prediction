{
 "cells": [
  {
   "cell_type": "markdown",
   "metadata": {},
   "source": [
    "Importing pandas ; Importing monthly progress prediction by book value ; Importing monthly progress by book value error"
   ]
  },
  {
   "cell_type": "code",
   "execution_count": 35,
   "metadata": {},
   "outputs": [
    {
     "name": "stdout",
     "output_type": "stream",
     "text": [
      "            Progress  2 Mean  3 Mean  4 Mean  5 Mean\n",
      "Year Month                                          \n",
      "2012 1      0.825456     NaN     NaN     NaN     NaN\n",
      "     2      0.783939     NaN     NaN     NaN     NaN\n",
      "     3      0.802500     NaN     NaN     NaN     NaN\n",
      "     4      0.814931     NaN     NaN     NaN     NaN\n",
      "     5      0.785893     NaN     NaN     NaN     NaN\n",
      "             2 Error   3 Error   4 Error   5 Error  AR 2 Error  AR 3 Error  \\\n",
      "Year Month                                                                   \n",
      "2017 1     -0.003440 -0.000348  0.000856  0.001918   -0.003440   -0.000348   \n",
      "     2      0.019402  0.025437  0.041573  0.024735    0.019402    0.025437   \n",
      "     3      0.015392  0.022032  0.043882  0.025147    0.015392    0.022032   \n",
      "     4     -0.054966 -0.034415 -0.013052 -0.031788    0.008090    0.009693   \n",
      "     5     -0.104173 -0.069899 -0.045465 -0.068125   -0.048150   -0.032469   \n",
      "\n",
      "            AR 4 Error  AR 5 Error  \n",
      "Year Month                          \n",
      "2017 1        0.000856    0.001918  \n",
      "     2        0.041573    0.024735  \n",
      "     3        0.043882    0.025147  \n",
      "     4        0.028949    0.011886  \n",
      "     5       -0.019517   -0.035716  \n"
     ]
    }
   ],
   "source": [
    "import pandas as pd\n",
    "df_progress=pd.read_csv('../../data/output/monthly-progress-by-book-value.csv',sep=';')\n",
    "df_error=pd.read_csv('../../data/output/monthly-progress-by-book-value-error.csv',sep=';')\n",
    "df_progress=df_progress.set_index(['Year','Month'])\n",
    "df_error=df_error.set_index(['Year','Month'])\n",
    "print(df_progress.head())\n",
    "print(df_error.head())"
   ]
  },
  {
   "cell_type": "markdown",
   "metadata": {},
   "source": [
    "Generating adjusted progress prediction with autoregressive error columns"
   ]
  },
  {
   "cell_type": "code",
   "execution_count": 36,
   "metadata": {},
   "outputs": [
    {
     "name": "stdout",
     "output_type": "stream",
     "text": [
      "AR 2 Error\n",
      "AR 3 Error\n",
      "AR 4 Error\n",
      "AR 5 Error\n"
     ]
    }
   ],
   "source": [
    "min_year=min(df_error.index.get_level_values('Year'))\n",
    "\n",
    "df_progress=df_progress.drop(df_progress.index[df_progress.index.get_level_values('Year')<min_year])\n",
    "\n",
    "for i,col in enumerate(df_error.columns[4:]):\n",
    "    print(col)\n",
    "    df_progress['AR '+str(i+2)+' Mean']=df_progress[str(i+2)+' Mean']+(df_error[col]*-1)\n",
    "    df_progress['AR '+str(i+2)+' Mean']=df_progress['AR '+str(i+2)+' Mean'].fillna(df_progress[str(i+2)+' Mean'])"
   ]
  },
  {
   "cell_type": "markdown",
   "metadata": {},
   "source": [
    "Calculating auto regressive mean error"
   ]
  },
  {
   "cell_type": "code",
   "execution_count": 37,
   "metadata": {},
   "outputs": [
    {
     "name": "stdout",
     "output_type": "stream",
     "text": [
      "AR 2 Mean Error\n",
      "0.04859812719607783\n",
      "AR 3 Mean Error\n",
      "0.04401055709628309\n",
      "AR 4 Mean Error\n",
      "0.043565149283736414\n",
      "AR 5 Mean Error\n",
      "0.03984880776503023\n"
     ]
    }
   ],
   "source": [
    "for i,col in enumerate(df_progress.columns[5:]):\n",
    "    print(col+' Error')\n",
    "    sr_temp=df_progress[col]-df_progress['Progress']\n",
    "    print(sr_temp.abs().mean())\n"
   ]
  }
 ],
 "metadata": {
  "kernelspec": {
   "display_name": "base",
   "language": "python",
   "name": "python3"
  },
  "language_info": {
   "codemirror_mode": {
    "name": "ipython",
    "version": 3
   },
   "file_extension": ".py",
   "mimetype": "text/x-python",
   "name": "python",
   "nbconvert_exporter": "python",
   "pygments_lexer": "ipython3",
   "version": "3.11.5"
  }
 },
 "nbformat": 4,
 "nbformat_minor": 2
}
