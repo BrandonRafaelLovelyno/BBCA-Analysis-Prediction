{
 "cells": [
  {
   "cell_type": "markdown",
   "metadata": {},
   "source": [
    "Importing pandas ; Importing numpy ; Importing seaborn ; Importing matplotlib ; Importing monthly progress prediction by book value"
   ]
  },
  {
   "cell_type": "code",
   "execution_count": 64,
   "metadata": {},
   "outputs": [],
   "source": [
    "import pandas as pd\n",
    "import numpy as np\n",
    "import seaborn as sns\n",
    "import matplotlib.pyplot as plt\n",
    "df_progress=pd.read_csv('../../data/output/monthly-progress-by-book-value.csv',sep=';')"
   ]
  },
  {
   "cell_type": "markdown",
   "metadata": {},
   "source": [
    "Creating the mean columns of progress dataframe"
   ]
  },
  {
   "cell_type": "code",
   "execution_count": 65,
   "metadata": {},
   "outputs": [],
   "source": [
    "years=df_progress['Year'].unique()\n",
    "prediction_interval=range(2,6)\n",
    "\n",
    "df_progress = df_progress.set_index(['Year', 'Month'])\n",
    "\n",
    "for year in years:\n",
    "    index_year,index_month=df_progress.index.get_level_values('Year'),df_progress.loc[year].index.get_level_values('Month')\n",
    "    for interval in prediction_interval:\n",
    "        if year-interval<min(years):\n",
    "            series_mean=np.nan\n",
    "        else :\n",
    "            series_mean=df_progress[(index_year<year)&(index_year>=year-interval)].groupby('Month')['Progress'].mean()\n",
    "            for month in index_month:\n",
    "                df_progress.loc[(year,month),str(interval)+' Mean']=series_mean[month]"
   ]
  },
  {
   "cell_type": "markdown",
   "metadata": {},
   "source": [
    "Finding correlation between progress and mean prediction"
   ]
  },
  {
   "cell_type": "code",
   "execution_count": 66,
   "metadata": {},
   "outputs": [
    {
     "name": "stdout",
     "output_type": "stream",
     "text": [
      "Correlation between Progress and 3 Mean\n",
      "0.15886503273924188 \n",
      "\n",
      "Correlation between Progress and 4 Mean\n",
      "0.2058783265908003 \n",
      "\n",
      "Correlation between Progress and 5 Mean\n",
      "0.31382355441831983 \n",
      "\n"
     ]
    }
   ],
   "source": [
    "for _,col in enumerate(df_progress.columns[2:]):\n",
    "    print('Correlation between Progress and',col)\n",
    "    print(df_progress['Progress'].corr(df_progress[col]),'\\n')"
   ]
  },
  {
   "cell_type": "markdown",
   "metadata": {},
   "source": [
    "Creating error mean dataframe ; Calculating the error mean"
   ]
  },
  {
   "cell_type": "code",
   "execution_count": 67,
   "metadata": {},
   "outputs": [],
   "source": [
    "df_error_mean=pd.DataFrame(index=df_progress.index)\n",
    "\n",
    "for interval in prediction_interval:\n",
    "    df_error_mean[str(interval)+' Error']=(df_progress[str(interval)+' Mean']-df_progress['Progress'])/df_progress['Progress']\n"
   ]
  },
  {
   "cell_type": "markdown",
   "metadata": {},
   "source": [
    "Visualizing error dataframe outliers"
   ]
  },
  {
   "cell_type": "code",
   "execution_count": 68,
   "metadata": {},
   "outputs": [
    {
     "data": {
      "text/plain": [
       "<Axes: >"
      ]
     },
     "execution_count": 68,
     "metadata": {},
     "output_type": "execute_result"
    },
    {
     "data": {
      "image/png": "[encoded data removed]",
      "text/plain": [
       "<Figure size 640x480 with 1 Axes>"
      ]
     },
     "metadata": {},
     "output_type": "display_data"
    }
   ],
   "source": [
    "# the df_error_mean is not absolute due to the importance of error direction\n",
    "sns.boxplot(data=df_error_mean.abs())"
   ]
  },
  {
   "cell_type": "markdown",
   "metadata": {},
   "source": [
    "Cleaning the error dataframe"
   ]
  },
  {
   "cell_type": "code",
   "execution_count": 69,
   "metadata": {},
   "outputs": [
    {
     "data": {
      "text/plain": [
       "<Axes: >"
      ]
     },
     "execution_count": 69,
     "metadata": {},
     "output_type": "execute_result"
    },
    {
     "data": {
      "image/png": "[encoded data removed]",
      "text/plain": [
       "<Figure size 640x480 with 1 Axes>"
      ]
     },
     "metadata": {},
     "output_type": "display_data"
    }
   ],
   "source": [
    "for i,col in enumerate(df_error_mean.columns):\n",
    "    Q1 = df_error_mean[col].abs().quantile(0.25)\n",
    "    Q3 = df_error_mean[col].abs().quantile(0.75)\n",
    "    IQR = Q3 - Q1\n",
    "    lower_bound = Q1 - 1.5 * IQR\n",
    "    upper_bound = Q3 + 1.5 * IQR\n",
    "    outlier_mask=(df_error_mean[col].abs()<lower_bound)|(df_error_mean[col].abs()>upper_bound)\n",
    "    df_error_mean[col]=df_error_mean[col].mask(outlier_mask)\n",
    "sns.boxplot(data=df_error_mean.abs())"
   ]
  },
  {
   "cell_type": "markdown",
   "metadata": {},
   "source": [
    "Calculating the error mean after cleaning"
   ]
  },
  {
   "cell_type": "code",
   "execution_count": 70,
   "metadata": {},
   "outputs": [
    {
     "name": "stdout",
     "output_type": "stream",
     "text": [
      "2 Error    0.088046\n",
      "3 Error    0.065405\n",
      "4 Error    0.065833\n",
      "5 Error    0.067642\n",
      "dtype: float64\n"
     ]
    }
   ],
   "source": [
    "print(df_error_mean.abs().mean())"
   ]
  },
  {
   "cell_type": "markdown",
   "metadata": {},
   "source": [
    "Calculating monthly error auto correlation"
   ]
  },
  {
   "cell_type": "code",
   "execution_count": 71,
   "metadata": {},
   "outputs": [
    {
     "name": "stdout",
     "output_type": "stream",
     "text": [
      "Auto-correlation at lag 1\n",
      "0.7789570004880233 \n",
      "\n",
      "Auto-correlation at lag 2\n",
      "0.6114282272954328 \n",
      "\n",
      "Auto-correlation at lag 3\n",
      "0.45462119155606423 \n",
      "\n"
     ]
    }
   ],
   "source": [
    "lags=range(1,4)\n",
    "\n",
    "for lag in lags:\n",
    "    auto_corr=0;\n",
    "    for _,col in enumerate(df_error_mean.columns):\n",
    "        auto_corr+=df_error_mean[col].autocorr(lag)\n",
    "    print('Auto-correlation at lag',lag)\n",
    "    print(auto_corr/len(df_error_mean.columns),'\\n')\n"
   ]
  },
  {
   "cell_type": "markdown",
   "metadata": {},
   "source": [
    "Updating the progress dataframe to csv ; Exporting the erroe mean dataframe to csv"
   ]
  },
  {
   "cell_type": "code",
   "execution_count": 72,
   "metadata": {},
   "outputs": [],
   "source": [
    "df_progress.to_csv('../data/output/monthly-progress-by-book-value.csv',sep=';')\n",
    "df_error_mean.to_csv('../data/output/monthly-progress-by-book-value-error.csv',sep=';')"
   ]
  }
 ],
 "metadata": {
  "kernelspec": {
   "display_name": "base",
   "language": "python",
   "name": "python3"
  },
  "language_info": {
   "codemirror_mode": {
    "name": "ipython",
    "version": 3
   },
   "file_extension": ".py",
   "mimetype": "text/x-python",
   "name": "python",
   "nbconvert_exporter": "python",
   "pygments_lexer": "ipython3",
   "version": "3.11.5"
  }
 },
 "nbformat": 4,
 "nbformat_minor": 2
}
