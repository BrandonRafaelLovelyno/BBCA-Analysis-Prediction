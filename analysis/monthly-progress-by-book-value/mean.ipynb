{
 "cells": [
  {
   "cell_type": "markdown",
   "metadata": {},
   "source": [
    "Importing pandas ; Importing numpy ; Importing seaborn ; Importing matplotlib ; Importing monthly progress prediction by book value"
   ]
  },
  {
   "cell_type": "code",
   "execution_count": 39,
   "metadata": {},
   "outputs": [],
   "source": [
    "import pandas as pd\n",
    "import numpy as np\n",
    "import seaborn as sns\n",
    "import matplotlib.pyplot as plt\n",
    "df_progress=pd.read_csv('../../data/output/monthly-progress-by-book-value/mean/past-data.csv',sep=';')"
   ]
  },
  {
   "cell_type": "markdown",
   "metadata": {},
   "source": [
    "Creating the mean columns of progress dataframe"
   ]
  },
  {
   "cell_type": "code",
   "execution_count": 40,
   "metadata": {},
   "outputs": [
    {
     "name": "stdout",
     "output_type": "stream",
     "text": [
      "            Progress    2 Mean    3 Mean    4 Mean    5 Mean\n",
      "Year Month                                                  \n",
      "2017 1      0.819292  0.815852  0.818944  0.820148  0.821210\n",
      "     2      0.826559  0.845961  0.851996  0.868132  0.851293\n",
      "     3      0.852290  0.867682  0.874321  0.896171  0.877437\n",
      "     4      0.921661  0.866694  0.887246  0.908608  0.889873\n",
      "     5      0.944658  0.840485  0.874759  0.899192  0.876533\n",
      "     6      0.956255  0.827178  0.862275  0.861043  0.837074\n",
      "     7      0.986477  0.857682  0.892669  0.891859  0.869536\n",
      "     8      1.007685  0.872360  0.911455  0.902453  0.883270\n",
      "     9      1.026129  0.851122  0.914731  0.905548  0.887219\n",
      "     10     1.095342  0.897822  0.958721  0.954120  0.928483\n",
      "     11     1.120332  0.873329  0.949177  0.937388  0.929103\n",
      "     12     1.131297  0.873039  0.952185  0.927534  0.929164\n"
     ]
    }
   ],
   "source": [
    "years=df_progress['Year'].unique()\n",
    "prediction_interval=range(2,6)\n",
    "\n",
    "df_progress = df_progress.set_index(['Year', 'Month'])\n",
    "\n",
    "for year in years:\n",
    "    index_year,index_month=df_progress.index.get_level_values('Year'),df_progress.loc[year].index.get_level_values('Month')\n",
    "    for interval in prediction_interval:\n",
    "        if year-interval<min(years):\n",
    "            series_mean=np.nan\n",
    "        else :\n",
    "            series_mean=df_progress[(index_year<year)&(index_year>=year-interval)].groupby('Month')['Progress'].mean()\n",
    "            for month in index_month:\n",
    "                df_progress.loc[(year,month),str(interval)+' Mean']=series_mean[month]\n",
    "\n",
    "print(df_progress[df_progress.index.get_level_values('Year')==2017])"
   ]
  },
  {
   "cell_type": "markdown",
   "metadata": {},
   "source": [
    "Finding correlation between progress and mean prediction"
   ]
  },
  {
   "cell_type": "code",
   "execution_count": 41,
   "metadata": {},
   "outputs": [
    {
     "name": "stdout",
     "output_type": "stream",
     "text": [
      "Correlation between Progress and 3 Mean\n",
      "0.15886503273924188 \n",
      "\n",
      "Correlation between Progress and 4 Mean\n",
      "0.2058783265908003 \n",
      "\n",
      "Correlation between Progress and 5 Mean\n",
      "0.31382355441831983 \n",
      "\n"
     ]
    }
   ],
   "source": [
    "for _,col in enumerate(df_progress.columns[2:]):\n",
    "    print('Correlation between Progress and',col)\n",
    "    print(df_progress['Progress'].corr(df_progress[col]),'\\n')"
   ]
  },
  {
   "cell_type": "markdown",
   "metadata": {},
   "source": [
    "Creating error mean dataframe ; Calculating the error mean"
   ]
  },
  {
   "cell_type": "code",
   "execution_count": 42,
   "metadata": {},
   "outputs": [],
   "source": [
    "df_error_mean=pd.DataFrame(index=df_progress.index)\n",
    "\n",
    "for interval in prediction_interval:\n",
    "    df_error_mean[str(interval)+' Error']=(df_progress[str(interval)+' Mean']-df_progress['Progress'])\n"
   ]
  },
  {
   "cell_type": "markdown",
   "metadata": {},
   "source": [
    "Visualizing error dataframe outliers"
   ]
  },
  {
   "cell_type": "code",
   "execution_count": 43,
   "metadata": {},
   "outputs": [
    {
     "data": {
      "text/plain": [
       "<Axes: >"
      ]
     },
     "execution_count": 43,
     "metadata": {},
     "output_type": "execute_result"
    },
    {
     "data": {
      "image/png": "[encoded data removed]",
      "text/plain": [
       "<Figure size 640x480 with 1 Axes>"
      ]
     },
     "metadata": {},
     "output_type": "display_data"
    }
   ],
   "source": [
    "# the df_error_mean is not absolute due to the importance of error direction\n",
    "sns.boxplot(data=df_error_mean.abs())"
   ]
  },
  {
   "cell_type": "markdown",
   "metadata": {},
   "source": [
    "Cleaning the error dataframe"
   ]
  },
  {
   "cell_type": "code",
   "execution_count": 44,
   "metadata": {},
   "outputs": [
    {
     "name": "stdout",
     "output_type": "stream",
     "text": [
      "There is a total of 4  outliers of  420  data\n"
     ]
    },
    {
     "data": {
      "text/plain": [
       "<Axes: >"
      ]
     },
     "execution_count": 44,
     "metadata": {},
     "output_type": "execute_result"
    },
    {
     "data": {
      "image/png": "[encoded data removed]",
      "text/plain": [
       "<Figure size 640x480 with 1 Axes>"
      ]
     },
     "metadata": {},
     "output_type": "display_data"
    }
   ],
   "source": [
    "count_before=df_error_mean.count()\n",
    "\n",
    "for i,col in enumerate(df_error_mean.columns):\n",
    "    Q1 = df_error_mean[col].abs().quantile(0.25)\n",
    "    Q3 = df_error_mean[col].abs().quantile(0.75)\n",
    "    IQR = Q3 - Q1\n",
    "    lower_bound = Q1 - 1.5 * IQR\n",
    "    upper_bound = Q3 + 1.5 * IQR\n",
    "    outlier_mask=(df_error_mean[col].abs()<lower_bound)|(df_error_mean[col].abs()>upper_bound)\n",
    "    df_error_mean[col]=df_error_mean[col].mask(outlier_mask)\n",
    "    \n",
    "count_after=df_error_mean.count()\n",
    "\n",
    "print('There is a total of',count_before.sum()-count_after.sum(),' outliers of ',count_before.sum(),' data')\n",
    "\n",
    "sns.boxplot(data=df_error_mean.abs())"
   ]
  },
  {
   "cell_type": "markdown",
   "metadata": {},
   "source": [
    "Calculating the error mean after cleaning"
   ]
  },
  {
   "cell_type": "code",
   "execution_count": 45,
   "metadata": {},
   "outputs": [
    {
     "name": "stdout",
     "output_type": "stream",
     "text": [
      "2 Error    0.073284\n",
      "3 Error    0.064645\n",
      "4 Error    0.067519\n",
      "5 Error    0.062234\n",
      "dtype: float64\n",
      "Empty DataFrame\n",
      "Columns: [2 Error, 3 Error, 4 Error, 5 Error]\n",
      "Index: []\n"
     ]
    }
   ],
   "source": [
    "df_error_mean=df_error_mean.dropna()\n",
    "print(df_error_mean.abs().mean())\n",
    "print(df_error_mean[df_error_mean.index.get_level_values('Year')==201])"
   ]
  },
  {
   "cell_type": "markdown",
   "metadata": {},
   "source": [
    "Calculating monthly error auto correlation"
   ]
  },
  {
   "cell_type": "code",
   "execution_count": 46,
   "metadata": {},
   "outputs": [
    {
     "name": "stdout",
     "output_type": "stream",
     "text": [
      "Auto-correlation at lag 1\n",
      "0.7674533092379539 \n",
      "\n",
      "Auto-correlation at lag 2\n",
      "0.5843331715686828 \n",
      "\n",
      "Auto-correlation at lag 3\n",
      "0.41596683623748165 \n",
      "\n",
      "Auto-correlation at lag 4\n",
      "0.2967226573358308 \n",
      "\n",
      "Auto-correlation at lag 5\n",
      "0.22661556829011437 \n",
      "\n",
      "Auto-correlation at lag 6\n",
      "0.10810594893764813 \n",
      "\n",
      "Auto-correlation at lag 7\n",
      "0.10046756045139657 \n",
      "\n",
      "Auto-correlation at lag 8\n",
      "0.09231612306951174 \n",
      "\n",
      "Auto-correlation at lag 9\n",
      "0.06591209105404452 \n",
      "\n"
     ]
    }
   ],
   "source": [
    "lags=range(1,10)\n",
    "\n",
    "for lag in lags:\n",
    "    auto_corr=0;\n",
    "    for _,col in enumerate(df_error_mean.columns):\n",
    "        auto_corr+=df_error_mean[col].autocorr(lag)\n",
    "    print('Auto-correlation at lag',lag)\n",
    "    print(auto_corr/len(df_error_mean.columns),'\\n')\n"
   ]
  },
  {
   "cell_type": "markdown",
   "metadata": {},
   "source": [
    "Exporting the progress dataframe to csv ; Exporting the error mean dataframe to csv"
   ]
  },
  {
   "cell_type": "code",
   "execution_count": 47,
   "metadata": {},
   "outputs": [],
   "source": [
    "df_progress=df_progress.dropna()\n",
    "\n",
    "df_progress.to_csv('../../data/output/monthly-progress-by-book-value/mean/past-prediction.csv',sep=';')\n",
    "df_error_mean.to_csv('../../data/output/monthly-progress-by-book-value/error/past-prediction.csv',sep=';')"
   ]
  }
 ],
 "metadata": {
  "kernelspec": {
   "display_name": "base",
   "language": "python",
   "name": "python3"
  },
  "language_info": {
   "codemirror_mode": {
    "name": "ipython",
    "version": 3
   },
   "file_extension": ".py",
   "mimetype": "text/x-python",
   "name": "python",
   "nbconvert_exporter": "python",
   "pygments_lexer": "ipython3",
   "version": "3.11.5"
  }
 },
 "nbformat": 4,
 "nbformat_minor": 2
}
