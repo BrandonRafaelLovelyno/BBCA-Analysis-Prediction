{
 "cells": [
  {
   "cell_type": "markdown",
   "metadata": {},
   "source": [
    "Importing pandas ; Importing matplotlib ; Importing progress csv"
   ]
  },
  {
   "cell_type": "code",
   "execution_count": 1,
   "metadata": {},
   "outputs": [
    {
     "name": "stdout",
     "output_type": "stream",
     "text": [
      "   Year  Month  Progress  Difference  2 Mean  3 Mean  4 Mean  5 Mean\n",
      "0  2014      1  0.825127         NaN     NaN     NaN     NaN     NaN\n",
      "1  2014      2  0.864067    0.038940     NaN     NaN     NaN     NaN\n",
      "2  2014      3  0.887600    0.023533     NaN     NaN     NaN     NaN\n",
      "3  2014      4  0.928349    0.040749     NaN     NaN     NaN     NaN\n",
      "4  2014      5  0.943307    0.014958     NaN     NaN     NaN     NaN\n"
     ]
    }
   ],
   "source": [
    "import pandas as pd\n",
    "import matplotlib.pyplot as plt\n",
    "df_progress=pd.read_csv('../../data/output/monthly-progress-by-book-value.csv',sep=';')\n",
    "print(df_progress.head())"
   ]
  }
 ],
 "metadata": {
  "kernelspec": {
   "display_name": "base",
   "language": "python",
   "name": "python3"
  },
  "language_info": {
   "codemirror_mode": {
    "name": "ipython",
    "version": 3
   },
   "file_extension": ".py",
   "mimetype": "text/x-python",
   "name": "python",
   "nbconvert_exporter": "python",
   "pygments_lexer": "ipython3",
   "version": "3.11.5"
  }
 },
 "nbformat": 4,
 "nbformat_minor": 2
}
