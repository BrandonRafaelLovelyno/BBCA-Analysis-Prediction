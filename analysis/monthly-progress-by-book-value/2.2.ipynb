{
 "cells": [
  {
   "cell_type": "markdown",
   "metadata": {},
   "source": [
    "Importing pandas ; Importing matplotlib ; Importing progress csv"
   ]
  },
  {
   "cell_type": "code",
   "execution_count": 22,
   "metadata": {},
   "outputs": [],
   "source": [
    "import pandas as pd\n",
    "import matplotlib.pyplot as plt\n",
    "df_progress=pd.read_csv('../../data/output/monthly-progress-by-book-value.csv',sep=';')"
   ]
  },
  {
   "cell_type": "code",
   "execution_count": 23,
   "metadata": {},
   "outputs": [
    {
     "name": "stdout",
     "output_type": "stream",
     "text": [
      "     Year  Month  Progress  Difference    2 Mean    3 Mean    4 Mean    5 Mean\n",
      "104  2023      1  0.900491   -0.172358  0.938937  0.917725  0.904164  0.895347\n",
      "105  2023      2  0.944436    0.043945  0.939312  0.911424  0.904552  0.905316\n",
      "106  2023      3  0.922727   -0.021709  0.875337  0.875337  0.879902  0.883901\n",
      "107  2023      4  0.964371    0.041644  0.899897  0.899897  0.898415  0.894105\n",
      "108  2023      5  0.969127    0.004756  0.885664  0.885664  0.890461  0.882459\n",
      "109  2023      6  0.982176    0.013050  0.882093  0.832580  0.860572  0.857913\n",
      "110  2023      7  0.985463    0.003287  0.846864  0.827367  0.866152  0.865832\n",
      "111  2023      8  0.999548    0.014085  0.914111  0.880494  0.902627  0.906265\n",
      "112  2023      9  0.980335   -0.019213  0.955593  0.890547  0.910501  0.913975\n",
      "113  2023     10  0.965563   -0.014772  1.011035  0.921992  0.939606  0.931473\n",
      "114  2023     11  0.962864   -0.002699  1.041655  0.968275  0.979463  0.972725\n",
      "115  2023     12  0.978090    0.015226  1.020684  0.968027  0.987274  0.988409\n",
      "0.11281834412521272\n",
      "0.1784384698247066\n",
      "0.08513449202465895\n",
      "0.32482617198880054\n"
     ]
    }
   ],
   "source": [
    "print(df_progress[df_progress['Year']==2023])\n",
    "\n",
    "for _,col in enumerate(df_progress.columns[4:]):\n",
    "    print(df_progress['Progress'].corr(df_progress[col]))"
   ]
  }
 ],
 "metadata": {
  "kernelspec": {
   "display_name": "base",
   "language": "python",
   "name": "python3"
  },
  "language_info": {
   "codemirror_mode": {
    "name": "ipython",
    "version": 3
   },
   "file_extension": ".py",
   "mimetype": "text/x-python",
   "name": "python",
   "nbconvert_exporter": "python",
   "pygments_lexer": "ipython3",
   "version": "3.11.5"
  }
 },
 "nbformat": 4,
 "nbformat_minor": 2
}
