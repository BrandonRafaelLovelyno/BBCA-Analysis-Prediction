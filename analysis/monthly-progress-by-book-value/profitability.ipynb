{
 "cells": [
  {
   "cell_type": "markdown",
   "metadata": {},
   "source": [
    "Importing pandas ; Importing the final progress dataframe ; Importing seaborn ; Importing numpy ; Importing the average closing price ; Importing the price csv ; Setting price csv index ; Preparing the final dataframe for prediction"
   ]
  },
  {
   "cell_type": "code",
   "execution_count": 1,
   "metadata": {},
   "outputs": [
    {
     "name": "stdout",
     "output_type": "stream",
     "text": [
      "              Open    High     Low   Close  Estimated Price\n",
      "Year Month                                                 \n",
      "2017 1      3100.0  3100.0  3100.0  3100.0      3472.823643\n",
      "     1      3100.0  3155.0  3045.0  3155.0      3472.823643\n",
      "     1      3170.0  3175.0  3130.0  3140.0      3472.823643\n",
      "     1      3140.0  3155.0  3125.0  3135.0      3472.823643\n",
      "     1      3090.0  3140.0  3090.0  3120.0      3472.823643\n"
     ]
    }
   ],
   "source": [
    "import pandas as pd\n",
    "import seaborn as sns\n",
    "import numpy as np\n",
    "\n",
    "df_close=pd.read_csv('../../data/output/average-closing-price.csv',sep=',')\n",
    "df_close=df_close.set_index(['Year'])\n",
    "\n",
    "df_price=pd.read_csv('../../data/input/price.csv',sep=',')\n",
    "df_price['Year']=pd.to_datetime(df_price['Date']).dt.year\n",
    "df_price['Month']=pd.to_datetime(df_price['Date']).dt.month\n",
    "df_price=df_price.set_index(['Year','Month']).drop(columns=['Date','Adj Close','Volume'])\n",
    "\n",
    "df_final=pd.read_csv('../../data/output/monthly-progress-by-book-value/mean.csv',sep=';')[['Year','Month','AR 5 Mean']]\n",
    "df_final=df_final.set_index(['Year','Month'])\n",
    "\n",
    "df_final=pd.merge(df_price,df_final,how='left',left_index=True,right_index=True)\n",
    "df_final=pd.merge(df_final,df_close,how='left',left_index=True,right_index=True)\n",
    "df_final=df_final.dropna()\n",
    "df_final['Estimated Price']=df_final['AR 5 Mean']*df_final['Closing Price']\n",
    "df_final=df_final.drop(columns=['AR 5 Mean','Closing Price'])\n",
    "\n",
    "print(df_final.head())"
   ]
  },
  {
   "cell_type": "markdown",
   "metadata": {},
   "source": [
    "Prompting investor buy and sell deviation from AR mean"
   ]
  },
  {
   "cell_type": "code",
   "execution_count": 2,
   "metadata": {},
   "outputs": [],
   "source": [
    "# the deviation from error mean\n",
    "deviation_mean=0.029067\n",
    "deviation_buy=0.01\n",
    "deviation_sell=0.01\n",
    "\n",
    "# security tax\n",
    "security_tax=0.004"
   ]
  },
  {
   "cell_type": "markdown",
   "metadata": {},
   "source": [
    "Defining profitability apply function"
   ]
  },
  {
   "cell_type": "code",
   "execution_count": 3,
   "metadata": {},
   "outputs": [],
   "source": [
    "hold_stock=False\n",
    "day_temp=0\n",
    "days=np.array([])\n",
    "\n",
    "def determine_day_profit(row):\n",
    "    global hold_stock\n",
    "    global days\n",
    "    global day_temp\n",
    "        \n",
    "    buy_price=row['Estimated Price']*(1-deviation_buy)\n",
    "    sell_price=row['Estimated Price']*(1+deviation_sell)\n",
    "    if hold_stock:\n",
    "        day_temp+=1\n",
    "        if sell_price<=row['High']:\n",
    "            days=np.append(days,day_temp)\n",
    "            day_temp=0\n",
    "            hold_stock=False\n",
    "            return True\n",
    "    else:\n",
    "        if buy_price>=row['Low']:\n",
    "            hold_stock=True\n",
    "            \n",
    "    return False"
   ]
  },
  {
   "cell_type": "markdown",
   "metadata": {},
   "source": [
    "Applying profitability function to final dataframe"
   ]
  },
  {
   "cell_type": "code",
   "execution_count": 4,
   "metadata": {},
   "outputs": [],
   "source": [
    "df_final['Profit']=df_final.apply(lambda row: determine_day_profit(row), axis=1)"
   ]
  },
  {
   "cell_type": "markdown",
   "metadata": {},
   "source": [
    "Cleaning the days"
   ]
  },
  {
   "cell_type": "code",
   "execution_count": 5,
   "metadata": {},
   "outputs": [
    {
     "name": "stdout",
     "output_type": "stream",
     "text": [
      "With a profit of 1.6 % per transaction:\n",
      "There is 45 profitable day of 1710 days.\n",
      "The mean of profitable days is 12.634146341463415\n"
     ]
    }
   ],
   "source": [
    "Q1=np.percentile(days,25)\n",
    "Q3=np.percentile(days,75)\n",
    "IQR=Q3-Q1\n",
    "lower_bound=Q1-1.5*IQR\n",
    "upper_bound=Q3+1.5*IQR\n",
    "days=days[(days>=lower_bound)&(days<=upper_bound)]\n",
    "\n",
    "print(\"With a profit of\",(deviation_buy+deviation_sell-security_tax)*100,\"% per transaction:\")\n",
    "print(\"There is\",df_final['Profit'].value_counts()[True],\"profitable day of\",len(df_final),\"days.\")\n",
    "print(\"The mean of profitable days is\",np.mean(days))"
   ]
  }
 ],
 "metadata": {
  "kernelspec": {
   "display_name": "base",
   "language": "python",
   "name": "python3"
  },
  "language_info": {
   "codemirror_mode": {
    "name": "ipython",
    "version": 3
   },
   "file_extension": ".py",
   "mimetype": "text/x-python",
   "name": "python",
   "nbconvert_exporter": "python",
   "pygments_lexer": "ipython3",
   "version": "3.11.5"
  }
 },
 "nbformat": 4,
 "nbformat_minor": 2
}
