{
 "cells": [
  {
   "cell_type": "markdown",
   "metadata": {},
   "source": [
    "Importing pandas ; Importing the final progress dataframe ; Importing seaborn ; Importing numpy ; Importing the average closing price ; Importing the price csv ; Setting price csv index ; Preparing the final dataframe for prediction"
   ]
  },
  {
   "cell_type": "code",
   "execution_count": 235,
   "metadata": {},
   "outputs": [],
   "source": [
    "import pandas as pd\n",
    "import seaborn as sns\n",
    "import numpy as np\n",
    "\n",
    "df_closing_prediction=pd.read_csv('../../data/output/price-prediction-by-book-value-growth.csv',sep=',')\n",
    "df_closing_prediction=df_closing_prediction.set_index('Year')[['3 Prediction']]\n",
    "\n",
    "df_price=pd.read_csv('../../data/input/price.csv',sep=',')\n",
    "df_price['Date']=pd.to_datetime(df_price['Date'])\n",
    "df_price['Year']=df_price['Date'].dt.year\n",
    "df_price['Month']=df_price['Date'].dt.month\n",
    "df_price=df_price.set_index(['Year','Month']).drop(columns=['Date','Adj Close','Volume'])\n",
    "\n",
    "df_normal=pd.read_csv('../../data/output/monthly-progress-by-book-value/mean/AR.csv',sep=';')[['Year','Month','AR 5 Mean']]\n",
    "df_normal=df_normal.set_index(['Year','Month'])\n",
    "\n",
    "df_normal=pd.merge(df_price,df_normal,how='left',left_index=True,right_index=True)\n",
    "df_normal=pd.merge(df_normal,df_closing_prediction,how='left',left_index=True,right_index=True)\n",
    "df_normal=df_normal.dropna()\n",
    "days=len(df_normal)"
   ]
  },
  {
   "cell_type": "markdown",
   "metadata": {},
   "source": [
    "Preparing three dataframe for mean prediction tolerance"
   ]
  },
  {
   "cell_type": "code",
   "execution_count": 236,
   "metadata": {},
   "outputs": [],
   "source": [
    "tolerance_mean=0.029\n",
    "\n",
    "df_lower,df_upper=df_normal.copy(),df_normal.copy()\n",
    "\n",
    "df_normal['Estimated Price']=df_normal['AR 5 Mean']*df_normal['3 Prediction']\n",
    "df_lower['Estimated Price']=(df_lower['AR 5 Mean']-tolerance_mean)*df_lower['3 Prediction']\n",
    "df_upper['Estimated Price']=(df_upper['AR 5 Mean']+tolerance_mean)*df_upper['3 Prediction']"
   ]
  },
  {
   "cell_type": "markdown",
   "metadata": {},
   "source": [
    "Prompting investor buy deviation from AR mean and profit margin"
   ]
  },
  {
   "cell_type": "code",
   "execution_count": 237,
   "metadata": {},
   "outputs": [],
   "source": [
    "# the buy and sell deviation\n",
    "deviation_buy=0.01\n",
    "margin_profit=0.014\n",
    "\n",
    "# security tax\n",
    "security_tax=0.004"
   ]
  },
  {
   "cell_type": "markdown",
   "metadata": {},
   "source": [
    "Generating buy price and sell price columns"
   ]
  },
  {
   "cell_type": "code",
   "execution_count": 238,
   "metadata": {},
   "outputs": [
    {
     "name": "stdout",
     "output_type": "stream",
     "text": [
      "              Open    High     Low   Close  Buy Price  Sell Price\n",
      "Year Month                                                       \n",
      "2017 1      3100.0  3100.0  3100.0  3100.0   3039.075  3081.62205\n",
      "     1      3100.0  3155.0  3045.0  3155.0   3039.075  3081.62205\n",
      "     1      3170.0  3175.0  3130.0  3140.0   3039.075  3081.62205\n",
      "     1      3140.0  3155.0  3125.0  3135.0   3039.075  3081.62205\n",
      "     1      3090.0  3140.0  3090.0  3120.0   3039.075  3081.62205\n",
      "              Open    High     Low   Close    Buy Price   Sell Price\n",
      "Year Month                                                          \n",
      "2017 1      3100.0  3100.0  3100.0  3100.0  2931.502667  2972.543704\n",
      "     1      3100.0  3155.0  3045.0  3155.0  2931.502667  2972.543704\n",
      "     1      3170.0  3175.0  3130.0  3140.0  2931.502667  2972.543704\n",
      "     1      3140.0  3155.0  3125.0  3135.0  2931.502667  2972.543704\n",
      "     1      3090.0  3140.0  3090.0  3120.0  2931.502667  2972.543704\n",
      "              Open    High     Low   Close    Buy Price   Sell Price\n",
      "Year Month                                                          \n",
      "2017 1      3100.0  3100.0  3100.0  3100.0  3146.647333  3190.700396\n",
      "     1      3100.0  3155.0  3045.0  3155.0  3146.647333  3190.700396\n",
      "     1      3170.0  3175.0  3130.0  3140.0  3146.647333  3190.700396\n",
      "     1      3140.0  3155.0  3125.0  3135.0  3146.647333  3190.700396\n",
      "     1      3090.0  3140.0  3090.0  3120.0  3146.647333  3190.700396\n"
     ]
    }
   ],
   "source": [
    "df_normal['Buy Price']=df_normal['Estimated Price']*(1-deviation_buy)\n",
    "df_normal['Sell Price']=df_normal['Buy Price']*(1+margin_profit)\n",
    "\n",
    "df_lower['Buy Price']=df_lower['Estimated Price']*(1-deviation_buy)\n",
    "df_lower['Sell Price']=df_lower['Buy Price']*(1+margin_profit)\n",
    "\n",
    "df_upper['Buy Price']=df_upper['Estimated Price']*(1-deviation_buy)\n",
    "df_upper['Sell Price']=df_upper['Buy Price']*(1+margin_profit)\n",
    "\n",
    "df_upper=df_upper.drop(columns=['3 Prediction','AR 5 Mean','Estimated Price'])\n",
    "df_lower=df_lower.drop(columns=['3 Prediction','AR 5 Mean','Estimated Price'])\n",
    "df_normal=df_normal.drop(columns=['3 Prediction','AR 5 Mean','Estimated Price'])\n",
    "\n",
    "print(df_normal.head())\n",
    "print(df_lower.head())\n",
    "print(df_upper.head())"
   ]
  },
  {
   "cell_type": "markdown",
   "metadata": {},
   "source": [
    "Defining profitability apply function"
   ]
  },
  {
   "cell_type": "code",
   "execution_count": 239,
   "metadata": {},
   "outputs": [],
   "source": [
    "hold_stock=False\n",
    "\n",
    "def determine_takeProfit(row):\n",
    "    \n",
    "    global hold_stock\n",
    "    \n",
    "    if hold_stock:\n",
    "        if row['Sell Price']<=row['High']:\n",
    "            hold_stock=False\n",
    "            return True\n",
    "    else:\n",
    "        if row['Buy Price']>=row['Low']:\n",
    "            hold_stock=True\n",
    "    \n",
    "    return False\n",
    "    "
   ]
  },
  {
   "cell_type": "markdown",
   "metadata": {},
   "source": [
    "Applying profitability function to final dataframe"
   ]
  },
  {
   "cell_type": "code",
   "execution_count": 240,
   "metadata": {},
   "outputs": [],
   "source": [
    "df_normal['Take Profit']=df_normal.apply(determine_takeProfit,axis=1)\n",
    "hold_stock=False\n",
    "df_lower['Take Profit']=df_lower.apply(determine_takeProfit,axis=1)\n",
    "hold_stock=False\n",
    "df_upper['Take Profit']=df_upper.apply(determine_takeProfit,axis=1)\n",
    "\n",
    "df_normal=df_normal.groupby(['Year','Month']).sum()['Take Profit']\n",
    "df_lower=df_lower.groupby(['Year','Month']).sum()['Take Profit']\n",
    "df_upper=df_upper.groupby(['Year','Month']).sum()['Take Profit']"
   ]
  },
  {
   "cell_type": "markdown",
   "metadata": {},
   "source": [
    "Fill the final dataframe with the most profitable month"
   ]
  },
  {
   "cell_type": "code",
   "execution_count": 241,
   "metadata": {},
   "outputs": [
    {
     "name": "stdout",
     "output_type": "stream",
     "text": [
      "With adding tolerance mean and a profit margin of 1.0 %, there is 145.0 profit day of 1789  days\n"
     ]
    }
   ],
   "source": [
    "df_final=pd.DataFrame(index=df_normal.index)\n",
    "\n",
    "years=df_final.index.get_level_values('Year')\n",
    "\n",
    "for year in years:\n",
    "    months=df_final.loc[year].index.get_level_values('Month')\n",
    "    for month in months:\n",
    "        df_final.loc[(year,month),'Take Profit Day']=max(df_normal.loc[(year,month)],df_lower.loc[(year,month)],df_upper.loc[(year,month)])\n",
    "\n",
    "print('With adding tolerance mean and a profit margin of',(margin_profit-security_tax)*100,'%, there is',df_final['Take Profit Day'].sum(),'profit day of',days,' days')"
   ]
  }
 ],
 "metadata": {
  "kernelspec": {
   "display_name": "base",
   "language": "python",
   "name": "python3"
  },
  "language_info": {
   "codemirror_mode": {
    "name": "ipython",
    "version": 3
   },
   "file_extension": ".py",
   "mimetype": "text/x-python",
   "name": "python",
   "nbconvert_exporter": "python",
   "pygments_lexer": "ipython3",
   "version": "3.11.5"
  }
 },
 "nbformat": 4,
 "nbformat_minor": 2
}
