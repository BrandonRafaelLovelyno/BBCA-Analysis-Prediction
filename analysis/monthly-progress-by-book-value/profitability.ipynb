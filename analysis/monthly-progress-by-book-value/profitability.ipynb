{
 "cells": [
  {
   "cell_type": "markdown",
   "metadata": {},
   "source": [
    "Importing pandas ; Importing the final progress dataframe ; Importing seaborn ; Importing numpy ; Importing the average closing price ; Importing the price csv ; Setting price csv index ; Preparing the final dataframe for prediction"
   ]
  },
  {
   "cell_type": "code",
   "execution_count": 94,
   "metadata": {},
   "outputs": [
    {
     "name": "stdout",
     "output_type": "stream",
     "text": [
      "              Open    High     Low   Close  Estimated Price\n",
      "Year Month                                                 \n",
      "2017 1      3100.0  3100.0  3100.0  3100.0      3069.772727\n",
      "     1      3100.0  3155.0  3045.0  3155.0      3069.772727\n",
      "     1      3170.0  3175.0  3130.0  3140.0      3069.772727\n",
      "     1      3140.0  3155.0  3125.0  3135.0      3069.772727\n",
      "     1      3090.0  3140.0  3090.0  3120.0      3069.772727\n"
     ]
    }
   ],
   "source": [
    "import pandas as pd\n",
    "import seaborn as sns\n",
    "import numpy as np\n",
    "\n",
    "df_closing_prediction=pd.read_csv('../../data/output/price-prediction-by-book-value-growth.csv',sep=',')\n",
    "df_closing_prediction=df_closing_prediction.set_index('Year')[['3 Prediction']]\n",
    "\n",
    "df_price=pd.read_csv('../../data/input/price.csv',sep=',')\n",
    "df_price['Date']=pd.to_datetime(df_price['Date'])\n",
    "df_price['Year']=df_price['Date'].dt.year\n",
    "df_price['Month']=df_price['Date'].dt.month\n",
    "df_price=df_price.set_index(['Year','Month']).drop(columns=['Date','Adj Close','Volume'])\n",
    "\n",
    "df_final=pd.read_csv('../../data/output/monthly-progress-by-book-value/mean/AR.csv',sep=';')[['Year','Month','AR 5 Mean']]\n",
    "df_final=df_final.set_index(['Year','Month'])\n",
    "\n",
    "df_final=pd.merge(df_price,df_final,how='left',left_index=True,right_index=True)\n",
    "df_final=pd.merge(df_final,df_closing_prediction,how='left',left_index=True,right_index=True)\n",
    "df_final=df_final.dropna()\n",
    "\n",
    "df_final['Estimated Price']=df_final['AR 5 Mean']*df_final['3 Prediction']\n",
    "df_final=df_final.drop(columns=['AR 5 Mean','3 Prediction'])\n",
    "\n",
    "print(df_final.head())"
   ]
  },
  {
   "cell_type": "markdown",
   "metadata": {},
   "source": [
    "Prompting investor buy and sell deviation from AR mean"
   ]
  },
  {
   "cell_type": "code",
   "execution_count": 95,
   "metadata": {},
   "outputs": [],
   "source": [
    "# the deviation from error mean\n",
    "deviation_mean=0.029067\n",
    "deviation_buy=0.01\n",
    "deviation_sell=0.01\n",
    "\n",
    "# security tax\n",
    "security_tax=0.004"
   ]
  },
  {
   "cell_type": "markdown",
   "metadata": {},
   "source": [
    "Generating buy price and sell price columns"
   ]
  },
  {
   "cell_type": "code",
   "execution_count": 96,
   "metadata": {},
   "outputs": [],
   "source": [
    "df_final['Buy Price']=df_final['Estimated Price']*(1-deviation_buy)\n",
    "df_final['Sell Price']=df_final['Estimated Price']*(1+deviation_sell)"
   ]
  },
  {
   "cell_type": "markdown",
   "metadata": {},
   "source": [
    "Defining profitability apply function"
   ]
  },
  {
   "cell_type": "code",
   "execution_count": 97,
   "metadata": {},
   "outputs": [],
   "source": [
    "hold_stock=False\n",
    "\n",
    "def determine_takeProfit(row):\n",
    "    \n",
    "    global hold_stock\n",
    "    \n",
    "    if hold_stock:\n",
    "        if row['Sell Price']<=row['High']:\n",
    "            hold_stock=False\n",
    "            return True\n",
    "    else:\n",
    "        if row['Buy Price']>=row['Low']:\n",
    "            hold_stock=True\n",
    "    \n",
    "    return False\n",
    "    "
   ]
  },
  {
   "cell_type": "markdown",
   "metadata": {},
   "source": [
    "Applying profitability function to final dataframe"
   ]
  },
  {
   "cell_type": "code",
   "execution_count": 98,
   "metadata": {},
   "outputs": [
    {
     "name": "stdout",
     "output_type": "stream",
     "text": [
      "Take Profit\n",
      "False    1735\n",
      "True       54\n",
      "Name: count, dtype: int64\n"
     ]
    }
   ],
   "source": [
    "df_final['Take Profit']=df_final.apply(lambda row: determine_takeProfit(row), axis=1)\n",
    "\n",
    "print(df_final['Take Profit'].value_counts())"
   ]
  },
  {
   "cell_type": "markdown",
   "metadata": {},
   "source": [
    "Exporting the final dataframe to csv"
   ]
  },
  {
   "cell_type": "code",
   "execution_count": 99,
   "metadata": {},
   "outputs": [
    {
     "name": "stdout",
     "output_type": "stream",
     "text": [
      "              Open    High     Low   Close  Estimated Price  Buy Price  \\\n",
      "Year Month                                                               \n",
      "2017 1      3100.0  3100.0  3100.0  3100.0      3069.772727   3039.075   \n",
      "     1      3100.0  3155.0  3045.0  3155.0      3069.772727   3039.075   \n",
      "     1      3170.0  3175.0  3130.0  3140.0      3069.772727   3039.075   \n",
      "     1      3140.0  3155.0  3125.0  3135.0      3069.772727   3039.075   \n",
      "     1      3090.0  3140.0  3090.0  3120.0      3069.772727   3039.075   \n",
      "\n",
      "             Sell Price  Take Profit  \n",
      "Year Month                            \n",
      "2017 1      3100.470455        False  \n",
      "     1      3100.470455        False  \n",
      "     1      3100.470455        False  \n",
      "     1      3100.470455        False  \n",
      "     1      3100.470455        False  \n"
     ]
    }
   ],
   "source": [
    "print(df_final.head())\n",
    "df_final=df_final[['High','Low','Buy Price','Sell Price','Take Profit']]\n",
    "df_final.to_csv('../../data/output/monthly-progress-by-book-value/profitability.csv',sep=';')"
   ]
  }
 ],
 "metadata": {
  "kernelspec": {
   "display_name": "base",
   "language": "python",
   "name": "python3"
  },
  "language_info": {
   "codemirror_mode": {
    "name": "ipython",
    "version": 3
   },
   "file_extension": ".py",
   "mimetype": "text/x-python",
   "name": "python",
   "nbconvert_exporter": "python",
   "pygments_lexer": "ipython3",
   "version": "3.11.5"
  }
 },
 "nbformat": 4,
 "nbformat_minor": 2
}
