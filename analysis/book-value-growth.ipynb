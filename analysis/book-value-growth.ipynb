{
 "cells": [
  {
   "cell_type": "markdown",
   "metadata": {},
   "source": [
    "Importing pandas ; Importing book value csv ; Importing statsmodel"
   ]
  },
  {
   "cell_type": "code",
   "execution_count": 20,
   "metadata": {},
   "outputs": [],
   "source": [
    "import pandas as pd\n",
    "import statsmodels.api as sm\n",
    "df_book=pd.read_csv('../data/input/book-value.csv',sep=';')"
   ]
  },
  {
   "cell_type": "markdown",
   "metadata": {},
   "source": [
    "Calculating growth mean"
   ]
  },
  {
   "cell_type": "code",
   "execution_count": 21,
   "metadata": {},
   "outputs": [],
   "source": [
    "df_book=df_book.set_index('Year')\n",
    "df_book['1 Growth'] = df_book['Book Value'].diff()/df_book['Book Value'].shift(1)\n",
    "\n",
    "growth_mean_interval=range(2,4)\n",
    "for i in growth_mean_interval:\n",
    "    df_book[str(i)+' Mean Growth'] = df_book['1 Growth'].rolling(window=i).mean()\n"
   ]
  },
  {
   "cell_type": "markdown",
   "metadata": {},
   "source": [
    "Calculating growth mean error"
   ]
  },
  {
   "cell_type": "code",
   "execution_count": 22,
   "metadata": {},
   "outputs": [
    {
     "name": "stdout",
     "output_type": "stream",
     "text": [
      "2 Error    0.017038\n",
      "3 Error    0.021055\n",
      "dtype: float64\n"
     ]
    }
   ],
   "source": [
    "df_error=pd.DataFrame(index=df_book.index)\n",
    "\n",
    "for i in growth_mean_interval:\n",
    "    df_error[str(i)+' Error'] = df_book['1 Growth'] - df_book[str(i)+' Mean Growth']\n",
    "\n",
    "print(df_error.abs().mean())"
   ]
  }
 ],
 "metadata": {
  "kernelspec": {
   "display_name": "base",
   "language": "python",
   "name": "python3"
  },
  "language_info": {
   "codemirror_mode": {
    "name": "ipython",
    "version": 3
   },
   "file_extension": ".py",
   "mimetype": "text/x-python",
   "name": "python",
   "nbconvert_exporter": "python",
   "pygments_lexer": "ipython3",
   "version": "3.11.5"
  }
 },
 "nbformat": 4,
 "nbformat_minor": 2
}
