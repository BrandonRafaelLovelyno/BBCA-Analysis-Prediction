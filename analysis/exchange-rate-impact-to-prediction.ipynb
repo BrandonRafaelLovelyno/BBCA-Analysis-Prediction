{
 "cells": [
  {
   "cell_type": "markdown",
   "metadata": {},
   "source": [
    "Importing pandas ; Importing the dollar csv ; Importing the monthly progress by book value csv ; Importing matplotlib"
   ]
  },
  {
   "cell_type": "code",
   "execution_count": 7,
   "metadata": {},
   "outputs": [
    {
     "name": "stdout",
     "output_type": "stream",
     "text": [
      "   Year  Month  Progress  2 Mean  3 Mean  4 Mean  5 Mean\n",
      "0  2014      1  0.825127     NaN     NaN     NaN     NaN\n",
      "1  2014      2  0.864067     NaN     NaN     NaN     NaN\n",
      "2  2014      3  0.887600     NaN     NaN     NaN     NaN\n",
      "3  2014      4  0.928349     NaN     NaN     NaN     NaN\n",
      "4  2014      5  0.943307     NaN     NaN     NaN     NaN\n",
      "         Date         Open         High          Low        Close  \\\n",
      "0  2008-01-01  9459.900391  9472.500000  9440.200195  9445.599609   \n",
      "1  2008-01-02  9446.299805  9459.200195  9366.200195  9390.799805   \n",
      "2  2008-01-03  9390.799805  9420.900391  9353.299805  9417.099609   \n",
      "3  2008-01-04  9417.099609  9453.700195  9371.900391  9441.799805   \n",
      "4  2008-01-07  9444.099609  9499.500000  9427.900391  9439.500000   \n",
      "\n",
      "     Adj Close  Volume  \n",
      "0  9445.599609     0.0  \n",
      "1  9390.799805     0.0  \n",
      "2  9417.099609     0.0  \n",
      "3  9441.799805     0.0  \n",
      "4  9439.500000     0.0  \n"
     ]
    }
   ],
   "source": [
    "import pandas as pd\n",
    "import matplotlib.pyplot as plt\n",
    "df_progress=pd.read_csv('../data/output/monthly-progress-by-book-value.csv',sep=';')\n",
    "df_dollar=pd.read_csv('../data/input/dollar.csv',sep=',')\n",
    "print(df_progress.head())\n",
    "print(df_dollar.head())\n"
   ]
  }
 ],
 "metadata": {
  "kernelspec": {
   "display_name": "base",
   "language": "python",
   "name": "python3"
  },
  "language_info": {
   "codemirror_mode": {
    "name": "ipython",
    "version": 3
   },
   "file_extension": ".py",
   "mimetype": "text/x-python",
   "name": "python",
   "nbconvert_exporter": "python",
   "pygments_lexer": "ipython3",
   "version": "3.11.5"
  }
 },
 "nbformat": 4,
 "nbformat_minor": 2
}
