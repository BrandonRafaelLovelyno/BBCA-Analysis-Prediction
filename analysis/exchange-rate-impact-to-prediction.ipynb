{
 "cells": [
  {
   "cell_type": "markdown",
   "metadata": {},
   "source": [
    "Importing pandas ; Importing the dollar csv ; Importing the price csv ; Importing the monthly progress error csv ; Importing matplotlib"
   ]
  },
  {
   "cell_type": "code",
   "execution_count": 161,
   "metadata": {},
   "outputs": [
    {
     "name": "stdout",
     "output_type": "stream",
     "text": [
      "            2 Error  3 Error  4 Error  5 Error\n",
      "Year Month                                    \n",
      "2014 1          NaN      NaN      NaN      NaN\n",
      "     2          NaN      NaN      NaN      NaN\n",
      "     3          NaN      NaN      NaN      NaN\n",
      "     4          NaN      NaN      NaN      NaN\n",
      "     5          NaN      NaN      NaN      NaN\n"
     ]
    }
   ],
   "source": [
    "import pandas as pd\n",
    "import matplotlib.pyplot as plt\n",
    "df_price=pd.read_csv('../data/input/price.csv',sep=',')\n",
    "df_dollar=pd.read_csv('../data/output/dollar.csv',sep=',')\n",
    "df_error=pd.read_csv('../data/output/monthly-progress-error.csv',sep=';')\n",
    "\n",
    "\n",
    "df_price['Date']=pd.to_datetime(df_price['Date'])\n",
    "df_price['Year']=df_price['Date'].dt.year\n",
    "df_price['Month']=df_price['Date'].dt.month\n",
    "\n",
    "df_price=df_price.set_index(['Year','Month'])\n",
    "df_dollar=df_dollar.set_index(['Year','Month'])\n",
    "df_error=df_error.set_index(['Year','Month'])\n",
    "\n",
    "df_price=df_price.groupby(['Year','Month']).mean()\n",
    "\n",
    "df_price=df_price.drop(['Date','Open','High','Low','Adj Close','Volume'],axis=1)\n",
    "\n",
    "print(df_error.head())"
   ]
  },
  {
   "cell_type": "markdown",
   "metadata": {},
   "source": [
    "Testing the dollar price correlation coefficient with BBCA Close Price"
   ]
  },
  {
   "cell_type": "code",
   "execution_count": 162,
   "metadata": {},
   "outputs": [
    {
     "name": "stdout",
     "output_type": "stream",
     "text": [
      "The correlation between the price of the stock and the dollar is:\n",
      "0.8569405888871475\n"
     ]
    }
   ],
   "source": [
    "print(\"The correlation between the price of the stock and the dollar is:\")\n",
    "print(df_dollar['Price'].corr(df_price['Close']))"
   ]
  },
  {
   "cell_type": "markdown",
   "metadata": {},
   "source": [
    "Testing the dollar difference correlation coefficient with monthly prediction error"
   ]
  },
  {
   "cell_type": "code",
   "execution_count": 163,
   "metadata": {},
   "outputs": [
    {
     "name": "stdout",
     "output_type": "stream",
     "text": [
      "Correlation between Dollar Difference and 2 Error\n",
      "0.15188777387659264 \n",
      "\n",
      "Correlation between Dollar Difference and 3 Error\n",
      "0.18525925742884466 \n",
      "\n",
      "Correlation between Dollar Difference and 4 Error\n",
      "0.1522413961860319 \n",
      "\n",
      "Correlation between Dollar Difference and 5 Error\n",
      "0.2092657170069175 \n",
      "\n"
     ]
    }
   ],
   "source": [
    "for _,col in enumerate(df_error.columns):\n",
    "    print('Correlation between Dollar Difference and '+col)\n",
    "    print(df_dollar['Difference'].corr(df_error[col]),'\\n')"
   ]
  }
 ],
 "metadata": {
  "kernelspec": {
   "display_name": "base",
   "language": "python",
   "name": "python3"
  },
  "language_info": {
   "codemirror_mode": {
    "name": "ipython",
    "version": 3
   },
   "file_extension": ".py",
   "mimetype": "text/x-python",
   "name": "python",
   "nbconvert_exporter": "python",
   "pygments_lexer": "ipython3",
   "version": "3.11.5"
  }
 },
 "nbformat": 4,
 "nbformat_minor": 2
}
