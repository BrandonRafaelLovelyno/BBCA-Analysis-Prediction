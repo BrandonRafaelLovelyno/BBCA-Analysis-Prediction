{
 "cells": [
  {
   "cell_type": "markdown",
   "metadata": {},
   "source": [
    "Importing pandas ; Importing price prediction by book value growth csv ; Importing average closing price csv"
   ]
  },
  {
   "cell_type": "code",
   "execution_count": 4,
   "metadata": {},
   "outputs": [],
   "source": [
    "import pandas as pd\n",
    "df_closing=pd.read_csv('../data/output/average-closing-price.csv')\n",
    "df_prediction=pd.read_csv('../data/output/price-prediction-by-book-value-growth.csv')"
   ]
  },
  {
   "cell_type": "markdown",
   "metadata": {},
   "source": [
    "Calculating the error of X Prediction columns and Average Closing Price"
   ]
  },
  {
   "cell_type": "code",
   "execution_count": 5,
   "metadata": {},
   "outputs": [
    {
     "name": "stdout",
     "output_type": "stream",
     "text": [
      "       2 Error   3 Error   4 Error   5 Error\n",
      "Year                                        \n",
      "2014 -0.109994 -0.110476 -0.112349 -0.118428\n",
      "2015  0.176387  0.178526  0.179190  0.178621\n",
      "2016  0.062662  0.075396  0.081937  0.085455\n",
      "2017 -0.135085 -0.131297 -0.125706 -0.122084\n",
      "2018  0.024106  0.007047  0.012069  0.017663\n",
      "2019 -0.073997 -0.045014 -0.054557 -0.048616\n",
      "2020  0.133160  0.137288  0.155761  0.151209\n",
      "2021  0.016589  0.031481  0.041476  0.062222\n",
      "2022 -0.095444 -0.072849 -0.060126 -0.050242\n",
      "2023  0.031928  0.021910  0.036272  0.045970\n"
     ]
    }
   ],
   "source": [
    "prediction_interval=range(2,6)\n",
    "df_prediction=df_prediction.set_index('Year')\n",
    "df_closing=df_closing.set_index('Year')\n",
    "df_error=pd.DataFrame(index=df_prediction.index)\n",
    "for i in prediction_interval:\n",
    "    df_error[str(i)+' Error']=(df_prediction[str(i)+' Prediction']-df_closing['Closing Price'])/df_prediction[str(i)+' Prediction']\n",
    "df_error=df_error.dropna()\n",
    "print(df_error.head(len(df_error)))"
   ]
  },
  {
   "cell_type": "markdown",
   "metadata": {},
   "source": [
    "Calculating the mean of X Error columns"
   ]
  },
  {
   "cell_type": "code",
   "execution_count": 6,
   "metadata": {},
   "outputs": [
    {
     "name": "stdout",
     "output_type": "stream",
     "text": [
      "Mean\n",
      "2 Error    0.085935\n",
      "3 Error    0.081128\n",
      "4 Error    0.085944\n",
      "5 Error    0.088051\n",
      "dtype: float64\n",
      "\n",
      "Standard Deviation\n",
      "2 Error    0.053468\n",
      "3 Error    0.056651\n",
      "4 Error    0.055194\n",
      "5 Error    0.052342\n",
      "dtype: float64\n"
     ]
    }
   ],
   "source": [
    "print(\"Mean\")\n",
    "print(df_error.abs().mean())"
   ]
  }
 ],
 "metadata": {
  "kernelspec": {
   "display_name": "base",
   "language": "python",
   "name": "python3"
  },
  "language_info": {
   "codemirror_mode": {
    "name": "ipython",
    "version": 3
   },
   "file_extension": ".py",
   "mimetype": "text/x-python",
   "name": "python",
   "nbconvert_exporter": "python",
   "pygments_lexer": "ipython3",
   "version": "3.11.5"
  }
 },
 "nbformat": 4,
 "nbformat_minor": 2
}
