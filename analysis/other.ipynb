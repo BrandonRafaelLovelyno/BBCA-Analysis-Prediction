{
 "cells": [
  {
   "cell_type": "markdown",
   "metadata": {},
   "source": [
    "Importing pandas ; Importing price csv"
   ]
  },
  {
   "cell_type": "code",
   "execution_count": 14,
   "metadata": {},
   "outputs": [],
   "source": [
    "import pandas as pd\n",
    "df_price=pd.read_csv('../data/input/price.csv')\n",
    "df_price['Date']=pd.to_datetime(df_price['Date'])\n",
    "df_price['Year']=df_price['Date'].dt.year\n",
    "df_price['Month']=df_price['Date'].dt.month\n",
    "df_price['Day']=df_price['Date'].dt.day\n",
    "\n",
    "df_price=df_price.set_index(['Year','Month','Day'])"
   ]
  },
  {
   "cell_type": "markdown",
   "metadata": {},
   "source": [
    "Comparing the first 10 days mean and the entire month mean"
   ]
  },
  {
   "cell_type": "code",
   "execution_count": 15,
   "metadata": {},
   "outputs": [
    {
     "name": "stdout",
     "output_type": "stream",
     "text": [
      "5227.0 5363.695652173913\n"
     ]
    }
   ],
   "source": [
    "print(df_price.loc[(2019,1)].head(10).mean()['Close'],df_price.loc[(2019,1)].mean()['Close'])"
   ]
  }
 ],
 "metadata": {
  "kernelspec": {
   "display_name": "base",
   "language": "python",
   "name": "python3"
  },
  "language_info": {
   "codemirror_mode": {
    "name": "ipython",
    "version": 3
   },
   "file_extension": ".py",
   "mimetype": "text/x-python",
   "name": "python",
   "nbconvert_exporter": "python",
   "pygments_lexer": "ipython3",
   "version": "3.11.5"
  }
 },
 "nbformat": 4,
 "nbformat_minor": 2
}
