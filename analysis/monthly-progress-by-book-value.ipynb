{
 "cells": [
  {
   "cell_type": "markdown",
   "metadata": {},
   "source": [
    "Importing pandas ; Importing numpy ; Importing seaborn ; Importing matplotlib ; Importing monthly progress prediction by book value"
   ]
  },
  {
   "cell_type": "code",
   "execution_count": 1,
   "metadata": {},
   "outputs": [],
   "source": [
    "import pandas as pd\n",
    "import numpy as np\n",
    "import matplotlib.pyplot as plt\n",
    "df_progress=pd.read_csv('../data/output/monthly-progress-by-book-value.csv',sep=';')"
   ]
  },
  {
   "cell_type": "markdown",
   "metadata": {},
   "source": [
    "Creating the mean columns of progress dataframe"
   ]
  },
  {
   "cell_type": "code",
   "execution_count": 2,
   "metadata": {},
   "outputs": [],
   "source": [
    "years=df_progress['Year'].unique()\n",
    "prediction_interval=range(2,6)\n",
    "\n",
    "df_progress = df_progress.set_index(['Year', 'Month'])\n",
    "\n",
    "for year in years:\n",
    "    index_year,index_month=df_progress.index.get_level_values('Year'),df_progress.loc[year].index.get_level_values('Month')\n",
    "    for interval in prediction_interval:\n",
    "        if year-interval<min(years):\n",
    "            series_mean=np.nan\n",
    "        else :\n",
    "            series_mean=df_progress[(index_year<year)&(index_year>=year-interval)].groupby('Month')['Progress'].mean()\n",
    "            for month in index_month:\n",
    "                df_progress.loc[(year,month),str(interval)+' Mean']=series_mean[month]"
   ]
  },
  {
   "cell_type": "markdown",
   "metadata": {},
   "source": [
    "Finding correlation between progress and mean prediction"
   ]
  },
  {
   "cell_type": "code",
   "execution_count": 3,
   "metadata": {},
   "outputs": [
    {
     "name": "stdout",
     "output_type": "stream",
     "text": [
      "Correlation between Progress and 3 Mean\n",
      "0.15886503273924188 \n",
      "\n",
      "Correlation between Progress and 4 Mean\n",
      "0.2058783265908003 \n",
      "\n",
      "Correlation between Progress and 5 Mean\n",
      "0.31382355441831983 \n",
      "\n"
     ]
    }
   ],
   "source": [
    "for _,col in enumerate(df_progress.columns[2:]):\n",
    "    print('Correlation between Progress and',col)\n",
    "    print(df_progress['Progress'].corr(df_progress[col]),'\\n')"
   ]
  },
  {
   "cell_type": "markdown",
   "metadata": {},
   "source": [
    "Creating error mean dataframe ; Calculating the error mean"
   ]
  },
  {
   "cell_type": "code",
   "execution_count": 4,
   "metadata": {},
   "outputs": [
    {
     "name": "stdout",
     "output_type": "stream",
     "text": [
      "        2 Error   3 Error   4 Error   5 Error\n",
      "Month                                        \n",
      "1      0.025543  0.030419  0.036298  0.046001\n",
      "2      0.039249  0.041322  0.045926  0.046971\n",
      "3      0.034684  0.040823  0.039767  0.037226\n",
      "4      0.084644  0.084153  0.089484  0.086478\n",
      "5      0.069283  0.057629  0.057065  0.053009\n",
      "6      0.103096  0.086845  0.092198  0.094916\n",
      "7      0.109756  0.086893  0.092744  0.095955\n",
      "8      0.106779  0.085428  0.092288  0.083409\n",
      "9      0.130884  0.105590  0.106054  0.094073\n",
      "10     0.143018  0.108134  0.106855  0.098548\n",
      "11     0.134631  0.089573  0.085452  0.081151\n",
      "12     0.117574  0.080047  0.078063  0.074381 \n",
      "\n",
      "2 Error    0.090576\n",
      "3 Error    0.074122\n",
      "4 Error    0.076255\n",
      "5 Error    0.073842\n",
      "dtype: float64\n"
     ]
    }
   ],
   "source": [
    "df_error_mean=pd.DataFrame(index=df_progress.index)\n",
    "\n",
    "for interval in prediction_interval:\n",
    "    df_error_mean[str(interval)+' Error']=(df_progress[str(interval)+' Mean']-df_progress['Progress'])/df_progress[str(interval)+' Mean']\n",
    "\n",
    "print(df_error_mean.abs().groupby('Month').mean(),'\\n')\n",
    "print(df_error_mean.abs().mean())\n"
   ]
  },
  {
   "cell_type": "markdown",
   "metadata": {},
   "source": [
    "Visualizing the error mean on months"
   ]
  },
  {
   "cell_type": "code",
   "execution_count": 5,
   "metadata": {},
   "outputs": [
    {
     "data": {
      "image/png": "[encoded data removed]",
      "text/plain": [
       "<Figure size 1000x600 with 1 Axes>"
      ]
     },
     "metadata": {},
     "output_type": "display_data"
    }
   ],
   "source": [
    "df_temp=df_error_mean.abs().groupby('Month').mean().reset_index()\n",
    "\n",
    "fig,ax=plt.subplots(figsize=(10,6))\n",
    "bar_width=0.15\n",
    "\n",
    "for i,col in enumerate(df_temp.columns[1:]):\n",
    "    ax.bar(df_temp['Month']+bar_width*i,df_temp[col].abs(),bar_width,label=col)\n",
    "    \n",
    "ax.set_title('Monthly error on mean')\n",
    "ax.set_xlabel('Interval')\n",
    "ax.set_ylabel('Error')\n",
    "ax.legend()\n",
    "\n",
    "plt.show()\n"
   ]
  },
  {
   "cell_type": "markdown",
   "metadata": {},
   "source": [
    "Calculating monthly error auto correlation"
   ]
  },
  {
   "cell_type": "code",
   "execution_count": 6,
   "metadata": {},
   "outputs": [
    {
     "name": "stdout",
     "output_type": "stream",
     "text": [
      "Auto-correlation at lag 1\n",
      "0.8107538057634408 \n",
      "\n",
      "Auto-correlation at lag 2\n",
      "0.6505485578362517 \n",
      "\n",
      "Auto-correlation at lag 3\n",
      "0.47869674654100686 \n",
      "\n"
     ]
    }
   ],
   "source": [
    "lags=range(1,4)\n",
    "\n",
    "for lag in lags:\n",
    "    auto_corr=0;\n",
    "    for _,col in enumerate(df_error_mean.columns):\n",
    "        auto_corr+=df_error_mean[col].autocorr(lag)\n",
    "    print('Auto-correlation at lag',lag)\n",
    "    print(auto_corr/len(df_error_mean.columns),'\\n')\n"
   ]
  },
  {
   "cell_type": "markdown",
   "metadata": {},
   "source": [
    "Updating the progress dataframe to csv ; Exporting the erroe mean dataframe to csv"
   ]
  },
  {
   "cell_type": "code",
   "execution_count": 7,
   "metadata": {},
   "outputs": [],
   "source": [
    "df_progress.to_csv('../data/output/monthly-progress-by-book-value.csv',sep=';')\n",
    "df_error_mean.to_csv('../data/output/monthly-progress-by-book-value-error.csv',sep=';')"
   ]
  }
 ],
 "metadata": {
  "kernelspec": {
   "display_name": "base",
   "language": "python",
   "name": "python3"
  },
  "language_info": {
   "codemirror_mode": {
    "name": "ipython",
    "version": 3
   },
   "file_extension": ".py",
   "mimetype": "text/x-python",
   "name": "python",
   "nbconvert_exporter": "python",
   "pygments_lexer": "ipython3",
   "version": "3.11.5"
  }
 },
 "nbformat": 4,
 "nbformat_minor": 2
}
