{
 "cells": [
  {
   "cell_type": "markdown",
   "metadata": {},
   "source": [
    "Importing pandas ; Importing numpy ; Importing seaborn ; Importing matplotlib ; Importing monthly progress prediction by book value"
   ]
  },
  {
   "cell_type": "code",
   "execution_count": 91,
   "metadata": {},
   "outputs": [],
   "source": [
    "import pandas as pd\n",
    "import numpy as np\n",
    "import seaborn as sns\n",
    "import matplotlib.pyplot as plt\n",
    "df_progress=pd.read_csv('../data/output/monthly-progress-by-book-value.csv',sep=';')"
   ]
  },
  {
   "cell_type": "markdown",
   "metadata": {},
   "source": [
    "Creating the mean columns of progress dataframe"
   ]
  },
  {
   "cell_type": "code",
   "execution_count": 92,
   "metadata": {},
   "outputs": [
    {
     "name": "stdout",
     "output_type": "stream",
     "text": [
      "       Progress    2 Mean    3 Mean    4 Mean    5 Mean\n",
      "Month                                                  \n",
      "1      0.863482  0.839685  0.832720  0.827769  0.827241\n",
      "2      0.883936  0.867465  0.854999  0.856713  0.858184\n",
      "3      0.884467  0.872095  0.862514  0.869888  0.873431\n",
      "4      0.895450  0.901418  0.874504  0.884056  0.892915\n",
      "5      0.900054  0.901556  0.873967  0.871020  0.885478\n",
      "6      0.944548  0.901766  0.872579  0.864472  0.878072\n",
      "7      0.982507  0.925514  0.912255  0.891598  0.905807\n",
      "8      0.969029  0.964249  0.958048  0.918304  0.932573\n",
      "9      0.970365  0.976999  0.969797  0.914060  0.939638\n",
      "10     0.992446  0.997143  0.993421  0.947482  0.974090\n",
      "11     1.013026  1.033052  0.999383  0.953190  0.982727\n",
      "12     1.045014  1.062125  1.016284  0.967582  0.996161\n"
     ]
    }
   ],
   "source": [
    "years=df_progress['Year'].unique()\n",
    "prediction_interval=range(2,6)\n",
    "\n",
    "df_progress = df_progress.set_index(['Year', 'Month'])\n",
    "\n",
    "for year in years:\n",
    "    index_year,index_month=df_progress.index.get_level_values('Year'),df_progress.loc[year].index.get_level_values('Month')\n",
    "    for interval in prediction_interval:\n",
    "        if year-interval<min(years):\n",
    "            series_mean=np.nan\n",
    "        else :\n",
    "            series_mean=df_progress[(index_year<year)&(index_year>=year-interval)].groupby('Month')['Progress'].mean()\n",
    "            for month in index_month:\n",
    "                df_progress.loc[(year,month),str(interval)+' Mean']=series_mean[month]"
   ]
  },
  {
   "cell_type": "markdown",
   "metadata": {},
   "source": [
    "Visualizing the actual progress and the mean progress"
   ]
  },
  {
   "cell_type": "code",
   "execution_count": null,
   "metadata": {},
   "outputs": [],
   "source": []
  }
 ],
 "metadata": {
  "kernelspec": {
   "display_name": "base",
   "language": "python",
   "name": "python3"
  },
  "language_info": {
   "codemirror_mode": {
    "name": "ipython",
    "version": 3
   },
   "file_extension": ".py",
   "mimetype": "text/x-python",
   "name": "python",
   "nbconvert_exporter": "python",
   "pygments_lexer": "ipython3",
   "version": "3.11.5"
  }
 },
 "nbformat": 4,
 "nbformat_minor": 2
}
