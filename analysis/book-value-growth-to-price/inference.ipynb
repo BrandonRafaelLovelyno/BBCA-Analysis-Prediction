{
 "cells": [
  {
   "cell_type": "markdown",
   "metadata": {},
   "source": [
    "Importing pandas ; Importing price prediction by book value growth csv ; Importing average closing price csv"
   ]
  },
  {
   "cell_type": "code",
   "execution_count": 57,
   "metadata": {},
   "outputs": [
    {
     "name": "stdout",
     "output_type": "stream",
     "text": [
      "    Year  Closing Price\n",
      "0   2008     601.578947\n",
      "1   2009     960.263158\n",
      "2   2010    1301.000000\n",
      "3   2011    1591.904762\n",
      "4   2012    1824.444444\n",
      "5   2013    1911.052632\n",
      "6   2014    2630.750000\n",
      "7   2015    2649.750000\n",
      "8   2016    2951.250000\n",
      "9   2017    4238.809524\n",
      "10  2018    5181.904762\n",
      "11  2019    6491.315789\n",
      "12  2020    6678.684211\n",
      "13  2021    7348.863636\n",
      "14  2022    8632.954545\n",
      "15  2023    9059.210526\n",
      "    Year  2 Prediction  3 Prediction  4 Prediction  5 Prediction\n",
      "0   2014   2370.058463   2369.029813   2365.040114   2352.184979\n",
      "1   2015   3217.228336   3225.604601   3228.214408   3225.979163\n",
      "2   2016   3148.543614   3191.906402   3214.648029   3227.014568\n",
      "3   2017   3734.354588   3746.859389   3765.467324   3777.620658\n",
      "4   2018   5309.906897   5218.683060   5245.207828   5275.076627\n",
      "5   2019   6044.074682   6211.703465   6155.490059   6190.364291\n",
      "6   2020   7704.631651   7741.498318   7910.891237   7868.471897\n",
      "7   2021   7472.827082   7587.731096   7666.851422   7836.466292\n",
      "8   2022   7880.782119   8046.755950   8143.327339   8219.969647\n",
      "9   2023   9357.993518   9262.144589   9400.178270   9495.728067\n",
      "10  2024  10275.301523  10290.176731  10209.377884  10324.369365\n"
     ]
    }
   ],
   "source": [
    "import pandas as pd\n",
    "df_closing=pd.read_csv('../../data/output/average-closing-price.csv')\n",
    "df_prediction=pd.read_csv('../../data/output/price-prediction-by-book-value-growth.csv')\n",
    "print(df_closing.head(len(df_closing)))\n",
    "print(df_prediction.head(len(df_prediction)))"
   ]
  },
  {
   "cell_type": "markdown",
   "metadata": {},
   "source": [
    "Calculating the error of X Prediction columns and Average Closing Price"
   ]
  },
  {
   "cell_type": "code",
   "execution_count": 58,
   "metadata": {},
   "outputs": [
    {
     "name": "stdout",
     "output_type": "stream",
     "text": [
      "       2 Error   3 Error   4 Error   5 Error\n",
      "Year                                        \n",
      "2014 -0.109994 -0.110476 -0.112349 -0.118428\n",
      "2015  0.176387  0.178526  0.179190  0.178621\n",
      "2016  0.062662  0.075396  0.081937  0.085455\n",
      "2017 -0.135085 -0.131297 -0.125706 -0.122084\n",
      "2018  0.024106  0.007047  0.012069  0.017663\n",
      "2019 -0.073997 -0.045014 -0.054557 -0.048616\n",
      "2020  0.133160  0.137288  0.155761  0.151209\n",
      "2021  0.016589  0.031481  0.041476  0.062222\n",
      "2022 -0.095444 -0.072849 -0.060126 -0.050242\n",
      "2023  0.031928  0.021910  0.036272  0.045970\n"
     ]
    }
   ],
   "source": [
    "prediction_interval=range(2,6)\n",
    "df_prediction=df_prediction.set_index('Year')\n",
    "df_closing=df_closing.set_index('Year')\n",
    "df_error=pd.DataFrame(index=df_prediction.index)\n",
    "for i in prediction_interval:\n",
    "    df_error[str(i)+' Error']=(df_prediction[str(i)+' Prediction']-df_closing['Closing Price'])/df_prediction[str(i)+' Prediction']\n",
    "df_error=df_error.dropna()\n",
    "print(df_error.head(len(df_error)))"
   ]
  },
  {
   "cell_type": "markdown",
   "metadata": {},
   "source": [
    "Calculating the mean and deviation of X Error columns"
   ]
  },
  {
   "cell_type": "code",
   "execution_count": 59,
   "metadata": {},
   "outputs": [
    {
     "name": "stdout",
     "output_type": "stream",
     "text": [
      "Mean\n",
      "2 Error    0.085935\n",
      "3 Error    0.081128\n",
      "4 Error    0.085944\n",
      "5 Error    0.088051\n",
      "dtype: float64\n",
      "\n",
      "Standard Deviation\n",
      "2 Error    0.105138\n",
      "3 Error    0.102119\n",
      "4 Error    0.104834\n",
      "5 Error    0.104411\n",
      "dtype: float64\n"
     ]
    }
   ],
   "source": [
    "print(\"Mean\")\n",
    "print(df_error.abs().mean())\n",
    "print(\"\\nStandard Deviation\")\n",
    "print(df_error.std())"
   ]
  }
 ],
 "metadata": {
  "kernelspec": {
   "display_name": "base",
   "language": "python",
   "name": "python3"
  },
  "language_info": {
   "codemirror_mode": {
    "name": "ipython",
    "version": 3
   },
   "file_extension": ".py",
   "mimetype": "text/x-python",
   "name": "python",
   "nbconvert_exporter": "python",
   "pygments_lexer": "ipython3",
   "version": "3.11.5"
  }
 },
 "nbformat": 4,
 "nbformat_minor": 2
}
