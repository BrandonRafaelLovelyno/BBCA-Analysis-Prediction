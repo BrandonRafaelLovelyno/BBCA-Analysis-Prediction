{
 "cells": [
  {
   "cell_type": "markdown",
   "metadata": {},
   "source": [
    "Importing pandas ; Importing price prediction by book value growth csv ; Importing average closing price csv"
   ]
  },
  {
   "cell_type": "code",
   "execution_count": null,
   "metadata": {},
   "outputs": [],
   "source": [
    "import pandas as pd\n",
    "df_closing=pd.read_csv('../../data/output/average-closing-price.csv')\n",
    "df_prediction=pd.read_csv('../../data/output/price-prediction-by-book-value-growth.csv')\n",
    "print(df_closing.head())\n",
    "print(df_prediction.head())"
   ]
  }
 ],
 "metadata": {
  "language_info": {
   "name": "python"
  }
 },
 "nbformat": 4,
 "nbformat_minor": 2
}
