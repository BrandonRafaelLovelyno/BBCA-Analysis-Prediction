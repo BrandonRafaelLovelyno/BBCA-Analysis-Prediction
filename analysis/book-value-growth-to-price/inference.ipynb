{
 "cells": [
  {
   "cell_type": "markdown",
   "metadata": {},
   "source": [
    "Importing pandas ; Importing price prediction by book value growth csv ; Importing average closing price csv"
   ]
  },
  {
   "cell_type": "code",
   "execution_count": 5,
   "metadata": {},
   "outputs": [
    {
     "name": "stdout",
     "output_type": "stream",
     "text": [
      "    Year  Closing Price\n",
      "0   2008     601.578947\n",
      "1   2009     960.263158\n",
      "2   2010    1301.000000\n",
      "3   2011    1591.904762\n",
      "4   2012    1824.444444\n",
      "5   2013    1911.052632\n",
      "6   2014    2630.750000\n",
      "7   2015    2649.750000\n",
      "8   2016    2951.250000\n",
      "9   2017    4238.809524\n",
      "10  2018    5181.904762\n",
      "11  2019    6491.315789\n",
      "12  2020    6678.684211\n",
      "13  2021    7348.863636\n",
      "14  2022    8632.954545\n",
      "15  2023    9059.210526\n",
      "    Year  2 Prediction  3 Prediction  4 Prediction  5 Prediction\n",
      "0   2014   2370.058463   2369.029813   2365.040114   2352.184979\n",
      "1   2015   3217.228336   3225.604601   3228.214408   3225.979163\n",
      "2   2016   3148.543614   3191.906402   3214.648029   3227.014568\n",
      "3   2017   3734.354588   3746.859389   3765.467324   3777.620658\n",
      "4   2018   5309.906897   5218.683060   5245.207828   5275.076627\n",
      "5   2019   6044.074682   6211.703465   6155.490059   6190.364291\n",
      "6   2020   7704.631651   7741.498318   7910.891237   7868.471897\n",
      "7   2021   7472.827082   7587.731096   7666.851422   7836.466292\n",
      "8   2022   7880.782119   8046.755950   8143.327339   8219.969647\n",
      "9   2023   9357.993518   9262.144589   9400.178270   9495.728067\n",
      "10  2024  10275.301523  10290.176731  10209.377884  10324.369365\n"
     ]
    }
   ],
   "source": [
    "import pandas as pd\n",
    "df_closing=pd.read_csv('../../data/output/average-closing-price.csv')\n",
    "df_prediction=pd.read_csv('../../data/output/price-prediction-by-book-value-growth.csv')\n",
    "print(df_closing.head(len(df_closing)))\n",
    "print(df_prediction.head(len(df_prediction)))"
   ]
  },
  {
   "cell_type": "markdown",
   "metadata": {},
   "source": []
  }
 ],
 "metadata": {
  "kernelspec": {
   "display_name": "base",
   "language": "python",
   "name": "python3"
  },
  "language_info": {
   "codemirror_mode": {
    "name": "ipython",
    "version": 3
   },
   "file_extension": ".py",
   "mimetype": "text/x-python",
   "name": "python",
   "nbconvert_exporter": "python",
   "pygments_lexer": "ipython3",
   "version": "3.11.5"
  }
 },
 "nbformat": 4,
 "nbformat_minor": 2
}
